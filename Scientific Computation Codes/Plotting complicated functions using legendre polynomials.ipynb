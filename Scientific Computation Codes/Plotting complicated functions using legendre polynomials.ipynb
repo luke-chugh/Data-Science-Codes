{
  "nbformat": 4,
  "nbformat_minor": 0,
  "metadata": {
    "kernelspec": {
      "display_name": "Python 3",
      "language": "python",
      "name": "python3"
    },
    "language_info": {
      "codemirror_mode": {
        "name": "ipython",
        "version": 3
      },
      "file_extension": ".py",
      "mimetype": "text/x-python",
      "name": "python",
      "nbconvert_exporter": "python",
      "pygments_lexer": "ipython3",
      "version": "3.8.3"
    },
    "colab": {
      "name": "Plotting a function using Legendre Polynomial.ipynb",
      "provenance": []
    }
  },
  "cells": [
    {
      "cell_type": "markdown",
      "metadata": {
        "id": "y5jaK7DHUIUa"
      },
      "source": [
        "# Plotting a function using Legendre Polynomial"
      ]
    },
    {
      "cell_type": "code",
      "metadata": {
        "id": "M2kHT67vUIUl",
        "outputId": "fa7ab75e-fbb4-4201-9c10-b985008b669b",
        "colab": {
          "base_uri": "https://localhost:8080/",
          "height": 282
        }
      },
      "source": [
        "from pylab import *\n",
        "from numpy import *\n",
        "%matplotlib inline\n",
        "\n",
        "N = 1000\n",
        "x = linspace(-1.0,1.0,N+1)\n",
        "U = array([x**0])\n",
        "order = 7\n",
        "\n",
        "for i in range(1,order):\n",
        "    U = concatenate((U,[x**i]))\n",
        "    \n",
        "def dotproduct(f,g):\n",
        "    integral = 0.0\n",
        "    a = -1.0\n",
        "    b = 1.0\n",
        "    h = (b-a)/N\n",
        "    def dot(x,y):\n",
        "        return x*y\n",
        "    for s in range(0,N-1,2):\n",
        "        y0 = dot(f[s],g[s])\n",
        "        y1 = 4*dot(f[s+1],g[s+1])\n",
        "        y2 = dot(f[s+2],g[s+2])\n",
        "        integral += (h/3)*(y0+y1+y2)\n",
        "    return integral\n",
        "\n",
        "V = array([ U[0]/sqrt(dotproduct(U[0],U[0])) ])\n",
        "\n",
        "for i in range(1,order):\n",
        "    m = len(V)\n",
        "    w = w1 = U[i]\n",
        "    for j in range(0,m):\n",
        "        w1 -= ( dotproduct(w,V[j]) )*V[j]\n",
        "    v = w1/(sqrt(dotproduct(w1,w1)))\n",
        "    V = concatenate((V,[v]))\n",
        "    \n",
        "n = order\n",
        "def h(x):\n",
        "    return 5*sin(3*x) + 6*cos(8*x) + 3*exp(-2*x)  ############## type the function that you want to plot here ##############\n",
        "C_Array = zeros(n)\n",
        "for i in range(n):\n",
        "    C_Array[i] = dotproduct(h(x),V[i])\n",
        "approx_f_vals = zeros(N+1)\n",
        "for i in range(n):\n",
        "    approx_f_vals += C_Array[i] * V[i]\n",
        "#xlim(-1,1)\n",
        "#plot(x,approx_f_vals)\n",
        "plot(x,h(x))\n",
        "#legend(['omega','energy','theta'],loc='upper right')"
      ],
      "execution_count": 18,
      "outputs": [
        {
          "output_type": "execute_result",
          "data": {
            "text/plain": [
              "[<matplotlib.lines.Line2D at 0x7fa3ff8fc470>]"
            ]
          },
          "metadata": {
            "tags": []
          },
          "execution_count": 18
        },
        {
          "output_type": "display_data",
          "data": {
            "image/png": "[encoded data removed]",
            "text/plain": [
              "<Figure size 432x288 with 1 Axes>"
            ]
          },
          "metadata": {
            "tags": [],
            "needs_background": "light"
          }
        }
      ]
    },
    {
      "cell_type": "code",
      "metadata": {
        "id": "tVD6DSkUUIUo"
      },
      "source": [
        ""
      ],
      "execution_count": null,
      "outputs": []
    }
  ]
}

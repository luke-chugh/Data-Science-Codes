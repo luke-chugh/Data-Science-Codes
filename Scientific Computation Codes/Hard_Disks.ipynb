{
  "nbformat": 4,
  "nbformat_minor": 0,
  "metadata": {
    "colab": {
      "name": "Hard_Disks.ipynb",
      "provenance": []
    },
    "kernelspec": {
      "display_name": "Python 3",
      "language": "python",
      "name": "python3"
    },
    "language_info": {
      "codemirror_mode": {
        "name": "ipython",
        "version": 3
      },
      "file_extension": ".py",
      "mimetype": "text/x-python",
      "name": "python",
      "nbconvert_exporter": "python",
      "pygments_lexer": "ipython3",
      "version": "3.8.3"
    }
  },
  "cells": [
    {
      "cell_type": "markdown",
      "metadata": {
        "id": "Wzx8_qitNbxn"
      },
      "source": [
        "# **Predicting the position of 4 balls confined in a chamber after colliding with each other**"
      ]
    },
    {
      "cell_type": "code",
      "metadata": {
        "id": "TNYpJfHpO2VI"
      },
      "source": [
        "import numpy as np\n",
        "import matplotlib.pyplot as plt\n",
        "%matplotlib inline"
      ],
      "execution_count": null,
      "outputs": []
    },
    {
      "cell_type": "code",
      "metadata": {
        "id": "lXMCBRYOO2Vf"
      },
      "source": [
        "#####  Function to compute time for wall collision ######\n",
        "def wall_time(coord, velcomp, rad):  \n",
        "    if velcomp > 0.0:\n",
        "        del_t = (1.0 - rad - coord) / velcomp\n",
        "    elif velcomp < 0.0:\n",
        "        del_t = (coord - rad) / abs(velcomp)\n",
        "    else:\n",
        "        del_t = float('inf')\n",
        "    return del_t\n",
        "\n",
        "\n",
        "# Function to calculate time it takes for a pair of particles to collide. \n",
        "# pos1 and pos2 are positions of particles 1 and 2, vel1 and vel2 are their \n",
        "# velocities. rad is the radius of the particles. \n",
        "def pair_time(pos1, vel1, pos2, vel2, rad):  \n",
        "    rel_pos = pos2 - pos1\n",
        "    rel_vel = vel2 - vel1\n",
        "    rel_dist_squar = np.dot(rel_pos,rel_pos)\n",
        "    rel_speed_squar = np.dot(rel_vel,rel_vel)\n",
        "    scal_prod = np.dot(rel_pos,rel_vel)\n",
        "    a = scal_prod ** 2 - rel_speed_squar * ( rel_dist_squar - 4.0 * rad **2)\n",
        "    if a > 0.0 and scal_prod < 0.0: ## Conditions for collision.\n",
        "        del_t = - (scal_prod + np.sqrt(a)) / rel_speed_squar ## Collision time.\n",
        "    else:\n",
        "        del_t = float('inf')\n",
        "    return del_t\n",
        "\n",
        "\n",
        "# Function to generate an image of the disk configuration in the box.\n",
        "def create_picture(positions):\n",
        "    plt.cla()\n",
        "    plt.gca().set_aspect('equal')\n",
        "    plt.axis([0, L, 0, L])\n",
        "    plt.setp(plt.gca(), xticks=[0, L], yticks=[0, L])\n",
        "    for x,y in positions:\n",
        "        atom = plt.Circle((x, y), Ratom, fc='r')\n",
        "        plt.gca().add_patch(atom)\n",
        "    "
      ],
      "execution_count": null,
      "outputs": []
    },
    {
      "cell_type": "code",
      "metadata": {
        "id": "IAUP29Y8O2Vh"
      },
      "source": [
        "######################### Initialization #################################\n",
        "L = 1. ## Box edge length\n",
        "Natoms = 4  # Number of disks\n",
        "density = 0.2 # Fraction of the area of the box covered by the disks\n",
        "Ratom = np.sqrt(density/(Natoms*np.pi))   ## Radius of disk.\n",
        "\n",
        "\n",
        "## List indexing all pairs of atoms.\n",
        "pairs = [[i,j] for i in range(Natoms) for j in range(i+1, Natoms)] \n",
        "\n",
        "## Positions and velocities of disks.\n",
        "positions = np.array([[0.4,0.4],[0.4,0.6],[0.6, 0.4], [0.6,0.6]])\n",
        "velocities = np.array([[1.,0.],[1.,1.],[0.,1.],[0.,0.]])\n",
        "\n",
        "t = 0.0 # Initial time.\n",
        "n_events = 200 # Number of collision events.\n",
        "#################################################################################"
      ],
      "execution_count": null,
      "outputs": []
    },
    {
      "cell_type": "code",
      "metadata": {
        "id": "Q8bNF8kuO2Vj"
      },
      "source": [
        "############### Event Loop ##############################################\n",
        "for event in range(n_events):\n",
        "    # Wall collision times for all disks and their velocity components.\n",
        "    wall_times = [wall_time(positions[i][j], velocities[i][j], Ratom) for i in range(Natoms) for j in range(2)] \n",
        "    # Pair collision times\n",
        "    pair_times = [pair_time(positions[i], velocities[i], positions[j], velocities[j], Ratom) for i,j in pairs] \n",
        "    # The next collision event is the minimum of wall and pair collision times.\n",
        "    next_event = min(wall_times + pair_times)  \n",
        "    t += next_event \n",
        "    for i in range(Natoms):\n",
        "        positions[i] += velocities[i]*next_event # Evolve positions to collision event\n",
        "    if min(wall_times) < min(pair_times): # Check if next event is a collision with a wall\n",
        "        wall_index = wall_times.index(next_event)\n",
        "        particle, component = divmod(wall_index, 2)\n",
        "        velocities[particle][component] *= -1.0 ## Velocity component normal to wall changes sign\n",
        "    else:\n",
        "        pair_index = pair_times.index(next_event)\n",
        "        particle_1, particle_2 = pairs[pair_index] # Indices of particles participating in collision.\n",
        "        rel_pos = positions[particle_2] - positions[particle_1]\n",
        "        rel_vel = velocities[particle_2] - velocities[particle_1]\n",
        "        distance = np.sqrt(np.dot(rel_pos,rel_pos))\n",
        "        unit_perp = rel_pos/distance\n",
        "        scal_prod = np.dot(rel_vel,unit_perp)\n",
        "        velocities[particle_1] += scal_prod*unit_perp # Change in velocities of atoms colliding with each other\n",
        "        velocities[particle_2] -= scal_prod*unit_perp\n",
        "\n",
        "##################################################################################\n"
      ],
      "execution_count": null,
      "outputs": []
    },
    {
      "cell_type": "code",
      "metadata": {
        "colab": {
          "base_uri": "https://localhost:8080/",
          "height": 269
        },
        "id": "dxzZcpFWO2Vl",
        "outputId": "141cc29d-62c3-42ba-9566-7a4b6ad1dcd6"
      },
      "source": [
        "create_picture(positions)"
      ],
      "execution_count": null,
      "outputs": [
        {
          "output_type": "display_data",
          "data": {
            "image/png": "[encoded data removed]",
            "text/plain": [
              "<Figure size 432x288 with 1 Axes>"
            ]
          },
          "metadata": {
            "tags": [],
            "needs_background": "light"
          }
        }
      ]
    },
    {
      "cell_type": "code",
      "metadata": {
        "id": "uCKV_Sy_Nbx4"
      },
      "source": [
        ""
      ],
      "execution_count": null,
      "outputs": []
    }
  ]
}
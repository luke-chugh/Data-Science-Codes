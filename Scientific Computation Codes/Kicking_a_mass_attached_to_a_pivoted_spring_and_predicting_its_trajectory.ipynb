{
  "nbformat": 4,
  "nbformat_minor": 0,
  "metadata": {
    "kernelspec": {
      "display_name": "Python 3",
      "language": "python",
      "name": "python3"
    },
    "language_info": {
      "codemirror_mode": {
        "name": "ipython",
        "version": 3
      },
      "file_extension": ".py",
      "mimetype": "text/x-python",
      "name": "python",
      "nbconvert_exporter": "python",
      "pygments_lexer": "ipython3",
      "version": "3.8.3"
    },
    "colab": {
      "name": "Kicking a mass attached to a pivoted spring and predicting its trajectory.ipynb",
      "provenance": []
    }
  },
  "cells": [
    {
      "cell_type": "markdown",
      "metadata": {
        "id": "-Pcpm2d2O6-J"
      },
      "source": [
        "# Predicting trajectory of a ball attached to a pivoted spring after hitting the ball"
      ]
    },
    {
      "cell_type": "code",
      "metadata": {
        "id": "Zd_rglp0O6-U",
        "outputId": "86b3f4e0-0de3-40a8-dd6e-e5915648250a"
      },
      "source": [
        "from matplotlib import pyplot as plt\n",
        "import numpy as np ,math\n",
        "X = []\n",
        "Y = []\n",
        "x = float(input(\"Enter the initial position in x direction \"))\n",
        "u = float(input(\"Enter the initial velocity \"))\n",
        "y = float(input(\"Enter the initial position in y direction \"))\n",
        "m = float(input(\"Enter the mass of the body \"))\n",
        "k = float(input(\"Enter the spring constant \"))\n",
        "a = float(input(\"Enter the angle in degrees \"))\n",
        "t = 0.0\n",
        "vx = u*math.cos(a)\n",
        "vy = u*math.sin(a)\n",
        "X.append(x)\n",
        "Y.append(y)\n",
        "endtime = 2*3.14*np.sqrt(m/k)\n",
        "n = 100000\n",
        "dt = endtime/n\n",
        "for i in range(0,n):\n",
        "    vx = vx - (k/m)*X[i]*dt\n",
        "    vy = vy - (k/m)*Y[i]*dt\n",
        "    x = x + vx*dt\n",
        "    y = y + vy*dt\n",
        "    X.append(x)\n",
        "    Y.append(y)\n",
        "plt.plot(X,Y,marker = '^')\n",
        "plt.xlabel('d')\n",
        "plt.ylabel('v/w')\n",
        "plt.grid(color='lightgrey',linestyle='--')\n",
        "plt.show()\n"
      ],
      "execution_count": null,
      "outputs": [
        {
          "output_type": "stream",
          "text": [
            "Enter the initial position in x direction 2\n",
            "Enter the initial velocity 2\n",
            "Enter the initial position in y direction 2\n",
            "Enter the mass of the body 2\n",
            "Enter the spring constant 2\n",
            "Enter the angle in degrees 2\n"
          ],
          "name": "stdout"
        },
        {
          "output_type": "display_data",
          "data": {
            "image/png": "[encoded data removed]",
            "text/plain": [
              "<Figure size 432x288 with 1 Axes>"
            ]
          },
          "metadata": {
            "tags": [],
            "needs_background": "light"
          }
        }
      ]
    },
    {
      "cell_type": "code",
      "metadata": {
        "id": "Vz-L_mQuO6-X"
      },
      "source": [
        ""
      ],
      "execution_count": null,
      "outputs": []
    }
  ]
}
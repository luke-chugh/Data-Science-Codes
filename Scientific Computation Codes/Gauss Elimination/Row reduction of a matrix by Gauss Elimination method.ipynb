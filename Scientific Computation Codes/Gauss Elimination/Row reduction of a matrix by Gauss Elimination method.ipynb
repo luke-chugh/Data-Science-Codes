{
 "cells": [
  {
   "cell_type": "markdown",
   "metadata": {},
   "source": [
    "# Row reduction of a matrix by Gauss Elimination method"
   ]
  },
  {
   "cell_type": "code",
   "execution_count": 1,
   "metadata": {},
   "outputs": [
    {
     "name": "stdout",
     "output_type": "stream",
     "text": [
      "[[ 1.  1.  1.]\n",
      " [ 0. -2.  0.]\n",
      " [ 0.  0.  1.]]\n",
      "[[ 6.]\n",
      " [-4.]\n",
      " [ 3.]]\n",
      "[1. 2. 3.]\n"
     ]
    }
   ],
   "source": [
    "from pylab import *\n",
    "from numpy import *\n",
    "\n",
    "a = array([ [1.,1.,1.] , [1.,-1.,1.] , [2.,-1.,3.] ])\n",
    "b = array([ [6.],[2.],[9.] ])\n",
    "n = 3\n",
    "\n",
    "for k in range(0,n-1):\n",
    "    for i in range(k+1,n):\n",
    "        c = ( a[i][k]/a[k][k] )\n",
    "        b[i] -= c*( b[k] )\n",
    "        for j in range(0,n):\n",
    "            a[i][j] -= c*( a[k][j] )\n",
    "\n",
    "print(a)\n",
    "print(b)\n",
    "\n",
    "X = array([ 0.,0.,0. ])\n",
    "\n",
    "for i in range(n-1,-1,-1):\n",
    "    X[i] = (( b[i] )/( a[i][i] ))\n",
    "    for j in range(0,n):\n",
    "        if(i!=j):\n",
    "            X[i] -= ((a[i][j]*X[j])/(a[i][i]))\n",
    "print(X)"
   ]
  },
  {
   "cell_type": "code",
   "execution_count": null,
   "metadata": {},
   "outputs": [],
   "source": []
  }
 ],
 "metadata": {
  "kernelspec": {
   "display_name": "Python 3",
   "language": "python",
   "name": "python3"
  },
  "language_info": {
   "codemirror_mode": {
    "name": "ipython",
    "version": 3
   },
   "file_extension": ".py",
   "mimetype": "text/x-python",
   "name": "python",
   "nbconvert_exporter": "python",
   "pygments_lexer": "ipython3",
   "version": "3.8.3"
  }
 },
 "nbformat": 4,
 "nbformat_minor": 4
}

{
 "cells": [
  {
   "cell_type": "markdown",
   "metadata": {},
   "source": [
    "# Time Evolution OF A Quantum wavepacket under Harmonic Potential"
   ]
  },
  {
   "cell_type": "markdown",
   "metadata": {},
   "source": [
    "# Solving the 1-D Schrodinger Equation\n",
    "$$ i \\hbar \\frac{\\partial \\psi}{\\partial t} = -\\frac{\\hbar^2}{2m} \\frac{\\partial^2\\psi}{\\partial x^2} + V(x)\\psi $$\n",
    "\n",
    "## Discretization (after dimensional analysis)\n",
    "\n",
    "$$ i \\frac{d\\phi}{dt} = H \\phi $$\n",
    "\n",
    "where\n",
    "\n",
    "$$H_{ij} = -\\frac{1}{\\Delta^2}\\left(\\delta_{i+1,j}-2\\delta_{i,j}+\\delta_{i-1,j}\\right) + U_i \\delta_{i,j} $$  \n",
    "\n",
    "\n",
    "Formal solution:  \n",
    "\n",
    "$$ \\phi(t) = e^{-i H t} \\phi(0) $$\n",
    "\n",
    "Strategy:  \n",
    "1. Solve for eigenvalues and eigenvectors of $H$  \n",
    "\n",
    "$$ H \\phi_n = \\epsilon_n \\phi_n $$  \n",
    "\n",
    "2. Expand $\\phi(0)$ in the basis of eigenvectors  \n",
    "\n",
    "$$ \\phi(0) = \\sum_n c_n \\phi_n $$  \n",
    "where $c_n = \\phi_n^{\\dagger} \\phi(0)$  \n",
    "\n",
    "3. The state $\\phi(t)$ is then given by  \n",
    "\n",
    "\\begin{eqnarray*}\n",
    "\\phi(t) &=& e^{-i H t} \\phi(0) \\\\\n",
    "&=& \\sum_n c_n e^{-i\\epsilon_n t}\\phi_n\n",
    "\\end{eqnarray*}"
   ]
  },
  {
   "cell_type": "code",
   "execution_count": 1,
   "metadata": {},
   "outputs": [],
   "source": [
    "##importing libraries\n",
    "import numpy as np\n",
    "from ipywidgets import*\n",
    "from bqplot import pyplot as plt"
   ]
  },
  {
   "cell_type": "markdown",
   "metadata": {},
   "source": [
    "**Defining Functions**\n",
    "* First function will calculate $\\phi \\phi^{*} $\n",
    "* Second one will return Gaussian function"
   ]
  },
  {
   "cell_type": "code",
   "execution_count": 2,
   "metadata": {},
   "outputs": [],
   "source": [
    "def prob(H): ##probabilty function\n",
    "    bn = np.conjugate(H)   \n",
    "    vb = np.multiply(bn,H)\n",
    "    return np.real(vb);\n",
    "\n",
    "N = 400   ##number of descretee space points\n",
    "sig = 1  ##width of gaussian \n",
    "peak = 0.  ## value at which Gaussian exhibits its peak\n",
    "xs = np.linspace(-10,10,N)  ## creating space arrya \n",
    "dx = xs[4]-xs[3] ##finding delta x\n",
    "\n",
    "k0 = 1.4 ## to provide momentum to the wavefunction \n",
    "\n",
    "def phi(x,sig,peak):\n",
    "    const = 1.0/(np.sqrt(2*np.pi*sig*sig))\n",
    "    return const*(np.exp(-((x-peak)**2)/(2*sig**2)))*np.exp(-1.j*k0*x)\n",
    "\n",
    "\n",
    "def V0(c):   ###HARMONIC POTENTIAL\n",
    "    return (1.0/2)*c*c;"
   ]
  },
  {
   "cell_type": "markdown",
   "metadata": {},
   "source": [
    "**Defining parameters and Normalized Gaussian Function**"
   ]
  },
  {
   "cell_type": "code",
   "execution_count": 3,
   "metadata": {},
   "outputs": [
    {
     "data": {
      "application/vnd.jupyter.widget-view+json": {
       "model_id": "db80dc0dff8545d2b445376e8fb93a15",
       "version_major": 2,
       "version_minor": 0
      },
      "text/plain": [
       "VBox(children=(Figure(axes=[Axis(scale=LinearScale()), Axis(orientation='vertical', scale=LinearScale())], fig…"
      ]
     },
     "metadata": {},
     "output_type": "display_data"
    }
   ],
   "source": [
    "Psi = np.array([phi(x,sig,peak) for x in xs],dtype = complex)  ##gaussian function\n",
    "norm_const = 1.0/np.sqrt(np.sum(prob(Psi)))  ##normalization constant\n",
    "Psi = norm_const*Psi.reshape(N,1)  ## Normalized Wave function it's a column vector\n",
    "\n",
    "\n",
    "\n",
    "Vpo = np.array([V0(xc) for xc in xs])\n",
    "fig = plt.figure(layout= {'width':'860px','height':'600px'}) ##initializing figures\n",
    "plt.clear() ## \n",
    "\n",
    "Psi_sqr = prob(Psi) ## probability array beacuse it is only meaningful \n",
    "\n",
    "fig = plt.figure(layout= {'width':'860px','height':'670px'})\n",
    "\n",
    "plt.clear()\n",
    "\n",
    "s_p = 1000\n",
    "plot = plt.plot(xs,s_p*Psi_sqr,colors = ['orange']) ##I have multiply the psi square array by s_p to scale it\n",
    "plt.plot(xs,Vpo,colors = ['black'])\n",
    "plt.show()"
   ]
  },
  {
   "cell_type": "markdown",
   "metadata": {},
   "source": [
    "## **TIME EVOLUTION (MAIN PART)**"
   ]
  },
  {
   "cell_type": "code",
   "execution_count": 4,
   "metadata": {},
   "outputs": [
    {
     "name": "stdout",
     "output_type": "stream",
     "text": [
      "|Phi|^2 =  0.9999999999999996\n",
      "|Phi|^2 =  0.9999999999999996\n",
      "|Phi|^2 =  0.9999999999999996\n",
      "|Phi|^2 =  0.9999999999999996\n",
      "|Phi|^2 =  0.9999999999999996\n"
     ]
    }
   ],
   "source": [
    "Psi_History = Psi_sqr.reshape(N,1)  ##we will store Psi_square value at different instant in this array as a column matrix which will be accesed later for animation\n",
    "\n",
    "def kdirac(i,j): ##kronecker delta function\n",
    "    if(i==j):\n",
    "        return 1;\n",
    "    else:\n",
    "        return 0;\n",
    "def hamil(i,j): ##hamiltonian function\n",
    "    v =(-kdirac(i+1,j)+2*kdirac(i,j)-kdirac(i-1,j))/(dx**2) + kdirac(i,j)*Vpo[i] ;\n",
    "    return v;\n",
    "\n",
    "Ham = np.zeros(N*N).reshape(N,N)   #initializing hamiltonian matrrix\n",
    "\n",
    "\n",
    "for i in range(N):  #populating hamiltonian matrix\n",
    "    for j in range(N):\n",
    "        Ham[i,j] = hamil(i,j)\n",
    "Eigval,Eigvect = np.linalg.eigh(Ham)      # calculataing eigenvectors and eigenvalues\n",
    "\n",
    "\n",
    "## Eigen vectors contains all the wave vector, and these are orthonormal (check it!)\n",
    "## and we have to find the coefficient lamda so we must have a matrix that will contain \n",
    "## hermitian conjugate of each wavevector i.e.convertinng them in a row then taking it's complex conjugate\n",
    "##well this can be done in one line only :) using np.conjugate\n",
    "\n",
    "\n",
    "conjugates = np.transpose(np.conjugate(Eigvect)) ##this will just take the complex conjugate of eeach vector \n",
    "\n",
    "\n",
    "Eigvect = np.transpose(Eigvect)   ## i did it because i have lambda as a column vectors so for easiness \n",
    "\n",
    "lambda_0 =  np.matmul(conjugates,Psi)  ## finding lambdas at t=0\n",
    "\n",
    "\n",
    "lambda_0 = lambda_0.reshape(N,1) ### as i told you i am habitual to work with column matrix\n",
    "Eigval = Eigval.reshape(N,1)\n",
    "\n",
    "t= 0   # initial time \n",
    "dt = 0.1 ##time step\n",
    "\n",
    "N_iter = 500  #number of iteration\n",
    "for i in range(N_iter):\n",
    " \n",
    "\n",
    "    lambda_t = lambda_0*np.exp(-1.j*Eigval*t) ##calculatating coefficient at later instant\n",
    "\n",
    "    \n",
    "    Psi_t = np.multiply(Eigvect,lambda_t)   ##finding psi(t) using superposition principal\n",
    "    Psi_t = np.sum(Psi_t,axis = 0) ##taking sum along rows\n",
    "\n",
    "        \n",
    "    Psi_t = prob(Psi_t) \n",
    "    Psi_t = Psi_t.reshape(N,1)   ##column matrix :(\n",
    "    Psi_History = np.hstack((Psi_History,Psi_t))  ##storing mod psi square\n",
    "    t+= dt  ##updating time\n",
    "    \n",
    "    \n",
    "    \n",
    "    if(i%100==0 and i<=1000):\n",
    "        \n",
    "        print(\"|Phi|^2 = \",np.sum(Psi_sqr))\n",
    "\n",
    "     "
   ]
  },
  {
   "cell_type": "markdown",
   "metadata": {},
   "source": [
    "## **SIMULATION**"
   ]
  },
  {
   "cell_type": "code",
   "execution_count": 5,
   "metadata": {},
   "outputs": [
    {
     "data": {
      "application/vnd.jupyter.widget-view+json": {
       "model_id": "17a65fa9290d4c67a00a239f8b8ecc67",
       "version_major": 2,
       "version_minor": 0
      },
      "text/plain": [
       "Figure(animation_duration=75, axes=[Axis(scale=LinearScale()), Axis(orientation='vertical', scale=LinearScale(…"
      ]
     },
     "metadata": {},
     "output_type": "display_data"
    },
    {
     "data": {
      "application/vnd.jupyter.widget-view+json": {
       "model_id": "07f274613e4240a886f0f64bba1bb728",
       "version_major": 2,
       "version_minor": 0
      },
      "text/plain": [
       "interactive(children=(Play(value=0, description='N1', interval=80, max=500), Output()), _dom_classes=('widget-…"
      ]
     },
     "metadata": {},
     "output_type": "display_data"
    }
   ],
   "source": [
    "animate_time = 80  ##you can change this time to tinker with animation\n",
    "fig.animation_duration = animate_time-5  ##synchronizing figure with animation time \n",
    "\n",
    "\n",
    "def animate(N1):  ##animation function. widget will call it and it will show us what is mod psi square at later instant\n",
    "    plot.y = s_p*Psi_History[:,N1]  \n",
    "\n",
    "display(fig) ##displaying figure\n",
    "\n",
    "linked_wdgt = interactive(animate,N1= Play(interval = animate_time,value=0,min=0,max=N_iter,step=1,descrption= \"press play\",disabled = False))\n",
    "\n",
    "display(linked_wdgt)"
   ]
  },
  {
   "cell_type": "code",
   "execution_count": null,
   "metadata": {},
   "outputs": [],
   "source": []
  }
 ],
 "metadata": {
  "kernelspec": {
   "display_name": "Python 3",
   "language": "python",
   "name": "python3"
  },
  "language_info": {
   "codemirror_mode": {
    "name": "ipython",
    "version": 3
   },
   "file_extension": ".py",
   "mimetype": "text/x-python",
   "name": "python",
   "nbconvert_exporter": "python",
   "pygments_lexer": "ipython3",
   "version": "3.8.3"
  }
 },
 "nbformat": 4,
 "nbformat_minor": 4
}

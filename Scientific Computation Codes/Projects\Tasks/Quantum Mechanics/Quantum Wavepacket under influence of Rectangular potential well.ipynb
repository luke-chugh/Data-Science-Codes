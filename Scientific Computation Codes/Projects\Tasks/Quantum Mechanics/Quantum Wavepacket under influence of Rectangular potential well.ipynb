{
  "nbformat": 4,
  "nbformat_minor": 0,
  "metadata": {
    "kernelspec": {
      "display_name": "Python 3",
      "language": "python",
      "name": "python3"
    },
    "language_info": {
      "codemirror_mode": {
        "name": "ipython",
        "version": 3
      },
      "file_extension": ".py",
      "mimetype": "text/x-python",
      "name": "python",
      "nbconvert_exporter": "python",
      "pygments_lexer": "ipython3",
      "version": "3.8.3"
    },
    "latex_envs": {
      "LaTeX_envs_menu_present": true,
      "autoclose": true,
      "autocomplete": true,
      "bibliofile": "biblio.bib",
      "cite_by": "apalike",
      "current_citInitial": 1,
      "eqLabelWithNumbers": true,
      "eqNumInitial": 1,
      "hotkeys": {
        "equation": "Ctrl-E",
        "itemize": "Ctrl-I"
      },
      "labels_anchors": false,
      "latex_user_defs": false,
      "report_style_numbering": false,
      "user_envs_cfg": false
    },
    "colab": {
      "name": "Solving one dimensional eigenvalue equation for a quantum wavepacket.ipynb",
      "provenance": []
    }
  },
  "cells": [
    {
      "cell_type": "markdown",
      "metadata": {
        "id": "FM3K26IRJeJs"
      },
      "source": [
        "# Solving the 1-D Eigenvalue Equation  \n",
        "$$ -\\frac{\\hbar^2}{2m} \\frac{d^2\\psi}{dx^2} + V(x)\\psi = E \\psi $$  \n",
        "## Reduction to dimensionless form  \n",
        " Assume natural length scale $a_0$. Let $x=a_0 y$. Substituting gives  \n",
        " $$ -\\frac{\\hbar^2}{2ma_0^2} \\frac{d^2\\psi}{dy^2} + V(x)\\psi = E \\psi $$  \n",
        " Use $E_0 = \\hbar^2/2ma_0^2$ as a natural energy scale. Dividing throughout by $E_0$ gives  \n",
        "  $$ -\\frac{d^2\\psi}{dy^2} + U(y)\\psi = \\epsilon \\psi $$  \n",
        "  where $U(y)=V(a_0 y)/E_0$ and $\\epsilon=E/E_0$. The wavefunction satisfies the constraint  \n",
        "  $$ \\int dx |\\psi|^2 = 1 $$.  \n",
        "  We define a dimensionless wavefunction $\\phi = \\sqrt{a_0}\\times \\psi$. This \n",
        "  satisfies  \n",
        "  $$ \\int dy |\\phi|^2 = 1 $$.\n",
        "  \n",
        "## Discretization  \n",
        "We assume that $x \\in [-L,L]$. Then, $y \\in [-\\tilde{L},\\tilde{L}]$ where $\\tilde{L}=L/l_0$.  \n",
        "Divide the interval $[-\\tilde{L},\\tilde{L}]$ into $N$ segments with lattice points labelled by an \n",
        "integer $i$ such that $y_i = i\\times \\Delta$ where $\\Delta = 2\\tilde{L}/N$. Using the symmetric difference for the \n",
        "second derivative in the eigenvalue equation gives (at $y_i$)  \n",
        "$$-\\frac{1}{\\Delta^2}\\left(\\phi_{i+1}-2\\phi_i+\\phi_{i-1}\\right) + U_i \\phi_i = \\epsilon \\phi_i $$  \n",
        "This equation can be cast in the matrix form  \n",
        "$$H \\phi = \\epsilon \\phi $$\n",
        "where the matrix $H$ has elements  \n",
        "$$H_{ij} = -\\frac{1}{\\Delta^2}\\left(\\delta_{i+1,j}-2\\delta_{i,j}+\\delta_{i-1,j}\\right) + U_i \\delta_{i,j} $$  \n",
        "At this point, the eigenvalues and eigenvectors of $H$ can be determined using numpy.  \n",
        "The normalization constraint on the eigenvectors $\\phi$ is  \n",
        " $$ \\int dy |\\phi|^2 = 1 $$  \n",
        " which, in discrete form, reduces to\n",
        " $$ \\Delta \\sum_i |\\phi_i|^2 = 1 $$"
      ]
    },
    {
      "cell_type": "markdown",
      "metadata": {
        "id": "2DkEzth1JeJz"
      },
      "source": [
        "## Example: Harmonic Oscillator\n",
        "\n",
        "$$V(x) =  \\begin{cases} \n",
        "      -V_{o}& |x|\\leq a \\\\\n",
        "      0 & otherwise\\\\\n",
        "   \\end{cases}\n",
        "$$ \n",
        "The natural energy scale is $E_0 = \\frac{\\hbar^2}{2 m a_0^2} $. The associated length scale is $a_0 = 2$${A^0}$  . The dimensionless eigenvalue equation is  \n",
        "$$-\\frac{d^2\\phi}{dy^2} + U(y)\\phi = \\epsilon \\phi $$ "
      ]
    },
    {
      "cell_type": "code",
      "metadata": {
        "id": "XuXoDvEZJeJ0"
      },
      "source": [
        "import numpy as np\n",
        "from numpy import linalg as lin\n",
        "import matplotlib.pyplot as plt\n",
        "plt.style.use(\"seaborn-whitegrid\")\n",
        "%matplotlib inline"
      ],
      "execution_count": 1,
      "outputs": []
    },
    {
      "cell_type": "code",
      "metadata": {
        "id": "_vV3sDg_JeJ0"
      },
      "source": [
        "delta = 0.01\n",
        "L = 3. \n",
        "N = 300 # No. of lattice points is 2N+1\n",
        "x = np.arange(-3.,3.+delta,delta)\n",
        "a = 2*10**-10 # in m\n",
        "hbar=(6.6*10**(-34))/(2*np.pi) #in Joules\n",
        "m = 9.1*10**-31 # in kg\n",
        "V_0 = 40 #in eV\n",
        "ev = 1.6*10**(-19)\n",
        "E_0 = e = hbar*hbar/(2*m*a*a*ev) #in eV\n",
        "U = V_0/E_0 # dimensionless potential\n"
      ],
      "execution_count": 2,
      "outputs": []
    },
    {
      "cell_type": "code",
      "metadata": {
        "id": "p1IeqSc5JeJ1"
      },
      "source": [
        "def kronecker(i,j):\n",
        "    return 1 if i==j else 0\n",
        "def V(z): #potential well defined\n",
        "    return -40/E_0 if abs(z) <=1 else 0.0\n",
        "\n",
        "def h(i,j):\n",
        "    return (-kronecker(i+1,j) + 2*kronecker(i,j) - kronecker(i-1,j))/delta**2 + V(delta*i) * kronecker(i,j)"
      ],
      "execution_count": 3,
      "outputs": []
    },
    {
      "cell_type": "code",
      "metadata": {
        "id": "JNiAT3xcJeJ1"
      },
      "source": [
        "H = np.array( [[h(i,j) for i in range(-N,N+1)] for j in range(-N,N+1)] ) # The Hamiltonian matrix\n",
        "H_eigenvalues, H_eigenvectors = lin.eig(H)\n",
        "idx = H_eigenvalues.argsort() # Sorted indices (increasing order of eigenvalues)\n",
        "H_eigenvalues = H_eigenvalues[idx] # Sorted eigenvalues\n",
        "H_eigenvectors = H_eigenvectors[:,idx] # Sorted eigenvectors"
      ],
      "execution_count": 4,
      "outputs": []
    },
    {
      "cell_type": "code",
      "metadata": {
        "id": "n-zA0dxLJeJ1"
      },
      "source": [
        "potential = np.array([V(delta*i)*E_0 for i in range(-N,N+1)])"
      ],
      "execution_count": 5,
      "outputs": []
    },
    {
      "cell_type": "code",
      "metadata": {
        "id": "7RQxyVCgJeJ2"
      },
      "source": [
        "psi_0 , psi_1 = H_eigenvectors[:,0] , H_eigenvectors[:,1] # eigenvectors corresponding to ground and first excited state respectively"
      ],
      "execution_count": 6,
      "outputs": []
    },
    {
      "cell_type": "code",
      "metadata": {
        "scrolled": true,
        "id": "hCpUH7oDJeJ2",
        "outputId": "757c6775-ca38-4c6e-cc76-da2a611d0768",
        "colab": {
          "base_uri": "https://localhost:8080/",
          "height": 623
        }
      },
      "source": [
        "plt.figure(figsize=(12,10))\n",
        "plt.plot(x, 30*(-psi_0) + H_eigenvalues[0], label=\"$psi_0$\")\n",
        "plt.plot(x, 30*(-psi_1) + H_eigenvalues[1], label =\"$psi_1$\")\n",
        "plt.plot(x, potential, label=\"Potential\")\n",
        "\n",
        "plt.xlabel('x')\n",
        "plt.ylabel('Energy(eV)')\n",
        "plt.title('QUANTUM WAVEPACKET UNDER THE INFLUENCE OF RECTANGULAR POTENTIAL WELL',fontweight='bold',size='20')\n",
        "plt.legend();"
      ],
      "execution_count": 14,
      "outputs": [
        {
          "output_type": "display_data",
          "data": {
            "image/png": "[encoded data removed]",
            "text/plain": [
              "<Figure size 864x720 with 1 Axes>"
            ]
          },
          "metadata": {
            "tags": [],
            "needs_background": "light"
          }
        }
      ]
    },
    {
      "cell_type": "code",
      "metadata": {
        "id": "gMzwyy3tJeJ3",
        "outputId": "6f8b3462-9465-4948-a7ab-8dd34807a774",
        "colab": {
          "base_uri": "https://localhost:8080/"
        }
      },
      "source": [
        "np.dot(psi_0.conj().T, psi_0) # Normalization check"
      ],
      "execution_count": 8,
      "outputs": [
        {
          "output_type": "execute_result",
          "data": {
            "text/plain": [
              "0.9999999999999999"
            ]
          },
          "metadata": {
            "tags": []
          },
          "execution_count": 8
        }
      ]
    },
    {
      "cell_type": "code",
      "metadata": {
        "id": "hpg-9ynXJeJ3",
        "outputId": "d42bd794-2389-4071-f0a5-2dd93a1ca472",
        "colab": {
          "base_uri": "https://localhost:8080/"
        }
      },
      "source": [
        "E0 , E1 = H_eigenvalues[0] , H_eigenvalues[1] #DIMENSIONLESS GROUND AND FIRST EXCITED ENERGY STATES RESPECTIVELY\n",
        "print(E0,E1)"
      ],
      "execution_count": 9,
      "outputs": [
        {
          "output_type": "stream",
          "text": [
            "-40.39299246348143 -34.93945809979993\n"
          ],
          "name": "stdout"
        }
      ]
    },
    {
      "cell_type": "code",
      "metadata": {
        "id": "cCi3ljiyJeJ4"
      },
      "source": [
        "E0 , E1 = E0 * e , E1 * e"
      ],
      "execution_count": 10,
      "outputs": []
    },
    {
      "cell_type": "code",
      "metadata": {
        "id": "vEEPk2ytJeJ4",
        "outputId": "4ce82507-f5a0-47d4-cb4d-744cf092bf92",
        "colab": {
          "base_uri": "https://localhost:8080/"
        }
      },
      "source": [
        "print(E0,E1) #GROUND AND FIRST EXCITED ENERGY STATES RESPECTIVELY IN eV"
      ],
      "execution_count": 11,
      "outputs": [
        {
          "output_type": "stream",
          "text": [
            "-38.26333331131307 -33.09732826053849\n"
          ],
          "name": "stdout"
        }
      ]
    },
    {
      "cell_type": "code",
      "metadata": {
        "id": "6oblmjcrJeJ4",
        "outputId": "bbe99a4c-17bb-445c-a20e-5e6c4b660040",
        "colab": {
          "base_uri": "https://localhost:8080/"
        }
      },
      "source": [
        "print(psi_0,psi_1) #GROUND AND FIRST EXCITED EIGEN VECTORS RESPECTIVELY "
      ],
      "execution_count": 12,
      "outputs": [
        {
          "output_type": "stream",
          "text": [
            "[7.19964379e-09 1.44283693e-08 2.17153750e-08 2.90900952e-08\n",
            " 3.65823189e-08 4.42223097e-08 5.20409277e-08 6.00697541e-08\n",
            " 6.83412200e-08 7.68887362e-08 8.57468293e-08 9.49512790e-08\n",
            " 1.04539265e-07 1.14549516e-07 1.25022468e-07 1.36000422e-07\n",
            " 1.47527723e-07 1.59650932e-07 1.72419020e-07 1.85883559e-07\n",
            " 2.00098937e-07 2.15122575e-07 2.31015159e-07 2.47840881e-07\n",
            " 2.65667708e-07 2.84567646e-07 3.04617038e-07 3.25896869e-07\n",
            " 3.48493095e-07 3.72496989e-07 3.98005510e-07 4.25121694e-07\n",
            " 4.53955073e-07 4.84622112e-07 5.17246684e-07 5.51960572e-07\n",
            " 5.88903993e-07 6.28226173e-07 6.70085946e-07 7.14652397e-07\n",
            " 7.62105543e-07 8.12637062e-07 8.66451065e-07 9.23764924e-07\n",
            " 9.84810146e-07 1.04983331e-06 1.11909706e-06 1.19288119e-06\n",
            " 1.27148371e-06 1.35522214e-06 1.44443472e-06 1.53948180e-06\n",
            " 1.64074732e-06 1.74864030e-06 1.86359656e-06 1.98608044e-06\n",
            " 2.11658670e-06 2.25564248e-06 2.40380948e-06 2.56168619e-06\n",
            " 2.72991031e-06 2.90916136e-06 3.10016339e-06 3.30368789e-06\n",
            " 3.52055699e-06 3.75164666e-06 3.99789036e-06 4.26028274e-06\n",
            " 4.53988367e-06 4.83782255e-06 5.15530284e-06 5.49360695e-06\n",
            " 5.85410137e-06 6.23824227e-06 6.64758129e-06 7.08377188e-06\n",
            " 7.54857594e-06 8.04387097e-06 8.57165759e-06 9.13406771e-06\n",
            " 9.73337306e-06 1.03719944e-05 1.10525114e-05 1.17776727e-05\n",
            " 1.25504076e-05 1.33738373e-05 1.42512880e-05 1.51863039e-05\n",
            " 1.61826618e-05 1.72443863e-05 1.83757661e-05 1.95813711e-05\n",
            " 2.08660711e-05 2.22350554e-05 2.36938538e-05 2.52483587e-05\n",
            " 2.69048493e-05 2.86700166e-05 3.05509907e-05 3.25553694e-05\n",
            " 3.46912490e-05 3.69672569e-05 3.93925866e-05 4.19770348e-05\n",
            " 4.47310408e-05 4.76657288e-05 5.07929530e-05 5.41253451e-05\n",
            " 5.76763657e-05 6.14603584e-05 6.54926078e-05 6.97894015e-05\n",
            " 7.43680955e-05 7.92471845e-05 8.44463766e-05 8.99866728e-05\n",
            " 9.58904522e-05 1.02181562e-04 1.08885413e-04 1.16029086e-04\n",
            " 1.23641434e-04 1.31753207e-04 1.40397171e-04 1.49608241e-04\n",
            " 1.59423623e-04 1.69882966e-04 1.81028516e-04 1.92905295e-04\n",
            " 2.05561276e-04 2.19047580e-04 2.33418683e-04 2.48732634e-04\n",
            " 2.65051291e-04 2.82440569e-04 3.00970709e-04 3.20716560e-04\n",
            " 3.41757881e-04 3.64179664e-04 3.88072478e-04 4.13532833e-04\n",
            " 4.40663570e-04 4.69574280e-04 5.00381741e-04 5.33210393e-04\n",
            " 5.68192842e-04 6.05470391e-04 6.45193617e-04 6.87522973e-04\n",
            " 7.32629439e-04 7.80695216e-04 8.31914454e-04 8.86494043e-04\n",
            " 9.44654447e-04 1.00663059e-03 1.07267282e-03 1.14304790e-03\n",
            " 1.21804008e-03 1.29795230e-03 1.38310733e-03 1.47384915e-03\n",
            " 1.57054429e-03 1.67358332e-03 1.78338246e-03 1.90038521e-03\n",
            " 2.02506419e-03 2.15792301e-03 2.29949832e-03 2.45036200e-03\n",
            " 2.61112342e-03 2.78243195e-03 2.96497956e-03 3.15950360e-03\n",
            " 3.36678983e-03 3.58767553e-03 3.82305292e-03 4.07387277e-03\n",
            " 4.34114821e-03 4.62595884e-03 4.92945511e-03 5.25286292e-03\n",
            " 5.59748862e-03 5.96472425e-03 6.35605318e-03 6.77305612e-03\n",
            " 7.21741746e-03 7.69093210e-03 8.19551272e-03 8.73319747e-03\n",
            " 9.30615822e-03 9.91670933e-03 1.05673170e-02 1.12606092e-02\n",
            " 1.19993864e-02 1.27866327e-02 1.36255280e-02 1.45194610e-02\n",
            " 1.54720423e-02 1.64871199e-02 1.75687939e-02 1.87214335e-02\n",
            " 1.99496946e-02 2.11742982e-02 2.23950199e-02 2.36116359e-02\n",
            " 2.48239231e-02 2.60316592e-02 2.72346229e-02 2.84325937e-02\n",
            " 2.96253517e-02 3.08126785e-02 3.19943564e-02 3.31701686e-02\n",
            " 3.43398996e-02 3.55033350e-02 3.66602615e-02 3.78104670e-02\n",
            " 3.89537406e-02 4.00898727e-02 4.12186550e-02 4.23398806e-02\n",
            " 4.34533439e-02 4.45588408e-02 4.56561686e-02 4.67451262e-02\n",
            " 4.78255138e-02 4.88971335e-02 4.99597887e-02 5.10132847e-02\n",
            " 5.20574283e-02 5.30920280e-02 5.41168943e-02 5.51318391e-02\n",
            " 5.61366765e-02 5.71312222e-02 5.81152939e-02 5.90887112e-02\n",
            " 6.00512956e-02 6.10028706e-02 6.19432618e-02 6.28722968e-02\n",
            " 6.37898052e-02 6.46956189e-02 6.55895718e-02 6.64714999e-02\n",
            " 6.73412417e-02 6.81986376e-02 6.90435305e-02 6.98757655e-02\n",
            " 7.06951900e-02 7.15016537e-02 7.22950088e-02 7.30751100e-02\n",
            " 7.38418140e-02 7.45949805e-02 7.53344712e-02 7.60601507e-02\n",
            " 7.67718859e-02 7.74695463e-02 7.81530040e-02 7.88221337e-02\n",
            " 7.94768128e-02 8.01169211e-02 8.07423414e-02 8.13529590e-02\n",
            " 8.19486620e-02 8.25293411e-02 8.30948899e-02 8.36452046e-02\n",
            " 8.41801845e-02 8.46997314e-02 8.52037501e-02 8.56921482e-02\n",
            " 8.61648361e-02 8.66217271e-02 8.70627376e-02 8.74877867e-02\n",
            " 8.78967964e-02 8.82896917e-02 8.86664007e-02 8.90268542e-02\n",
            " 8.93709862e-02 8.96987335e-02 9.00100362e-02 9.03048371e-02\n",
            " 9.05830822e-02 9.08447204e-02 9.10897039e-02 9.13179876e-02\n",
            " 9.15295298e-02 9.17242916e-02 9.19022374e-02 9.20633345e-02\n",
            " 9.22075534e-02 9.23348676e-02 9.24452539e-02 9.25386919e-02\n",
            " 9.26151645e-02 9.26746578e-02 9.27171608e-02 9.27426657e-02\n",
            " 9.27511679e-02 9.27426657e-02 9.27171608e-02 9.26746578e-02\n",
            " 9.26151645e-02 9.25386919e-02 9.24452539e-02 9.23348676e-02\n",
            " 9.22075534e-02 9.20633345e-02 9.19022374e-02 9.17242916e-02\n",
            " 9.15295298e-02 9.13179876e-02 9.10897039e-02 9.08447204e-02\n",
            " 9.05830822e-02 9.03048371e-02 9.00100362e-02 8.96987335e-02\n",
            " 8.93709862e-02 8.90268542e-02 8.86664007e-02 8.82896917e-02\n",
            " 8.78967964e-02 8.74877867e-02 8.70627376e-02 8.66217271e-02\n",
            " 8.61648361e-02 8.56921482e-02 8.52037501e-02 8.46997314e-02\n",
            " 8.41801845e-02 8.36452046e-02 8.30948899e-02 8.25293411e-02\n",
            " 8.19486620e-02 8.13529590e-02 8.07423414e-02 8.01169211e-02\n",
            " 7.94768128e-02 7.88221337e-02 7.81530040e-02 7.74695463e-02\n",
            " 7.67718859e-02 7.60601507e-02 7.53344712e-02 7.45949805e-02\n",
            " 7.38418140e-02 7.30751100e-02 7.22950088e-02 7.15016537e-02\n",
            " 7.06951900e-02 6.98757655e-02 6.90435305e-02 6.81986376e-02\n",
            " 6.73412417e-02 6.64714999e-02 6.55895718e-02 6.46956189e-02\n",
            " 6.37898052e-02 6.28722968e-02 6.19432618e-02 6.10028706e-02\n",
            " 6.00512956e-02 5.90887112e-02 5.81152939e-02 5.71312222e-02\n",
            " 5.61366765e-02 5.51318391e-02 5.41168943e-02 5.30920280e-02\n",
            " 5.20574283e-02 5.10132847e-02 4.99597887e-02 4.88971335e-02\n",
            " 4.78255138e-02 4.67451262e-02 4.56561686e-02 4.45588408e-02\n",
            " 4.34533439e-02 4.23398806e-02 4.12186550e-02 4.00898727e-02\n",
            " 3.89537406e-02 3.78104670e-02 3.66602615e-02 3.55033350e-02\n",
            " 3.43398996e-02 3.31701686e-02 3.19943564e-02 3.08126785e-02\n",
            " 2.96253517e-02 2.84325937e-02 2.72346229e-02 2.60316592e-02\n",
            " 2.48239231e-02 2.36116359e-02 2.23950199e-02 2.11742982e-02\n",
            " 1.99496946e-02 1.87214335e-02 1.75687939e-02 1.64871199e-02\n",
            " 1.54720423e-02 1.45194610e-02 1.36255280e-02 1.27866327e-02\n",
            " 1.19993864e-02 1.12606092e-02 1.05673170e-02 9.91670933e-03\n",
            " 9.30615822e-03 8.73319747e-03 8.19551272e-03 7.69093210e-03\n",
            " 7.21741746e-03 6.77305612e-03 6.35605318e-03 5.96472425e-03\n",
            " 5.59748862e-03 5.25286292e-03 4.92945511e-03 4.62595884e-03\n",
            " 4.34114821e-03 4.07387277e-03 3.82305292e-03 3.58767553e-03\n",
            " 3.36678983e-03 3.15950360e-03 2.96497956e-03 2.78243195e-03\n",
            " 2.61112342e-03 2.45036200e-03 2.29949832e-03 2.15792301e-03\n",
            " 2.02506419e-03 1.90038521e-03 1.78338246e-03 1.67358332e-03\n",
            " 1.57054429e-03 1.47384915e-03 1.38310733e-03 1.29795230e-03\n",
            " 1.21804008e-03 1.14304790e-03 1.07267282e-03 1.00663059e-03\n",
            " 9.44654447e-04 8.86494043e-04 8.31914454e-04 7.80695216e-04\n",
            " 7.32629439e-04 6.87522973e-04 6.45193617e-04 6.05470391e-04\n",
            " 5.68192842e-04 5.33210393e-04 5.00381741e-04 4.69574280e-04\n",
            " 4.40663570e-04 4.13532833e-04 3.88072478e-04 3.64179664e-04\n",
            " 3.41757881e-04 3.20716560e-04 3.00970709e-04 2.82440569e-04\n",
            " 2.65051291e-04 2.48732634e-04 2.33418683e-04 2.19047580e-04\n",
            " 2.05561276e-04 1.92905295e-04 1.81028516e-04 1.69882966e-04\n",
            " 1.59423624e-04 1.49608241e-04 1.40397171e-04 1.31753207e-04\n",
            " 1.23641434e-04 1.16029086e-04 1.08885413e-04 1.02181562e-04\n",
            " 9.58904522e-05 8.99866728e-05 8.44463766e-05 7.92471845e-05\n",
            " 7.43680955e-05 6.97894016e-05 6.54926079e-05 6.14603584e-05\n",
            " 5.76763657e-05 5.41253451e-05 5.07929530e-05 4.76657288e-05\n",
            " 4.47310408e-05 4.19770348e-05 3.93925866e-05 3.69672569e-05\n",
            " 3.46912490e-05 3.25553694e-05 3.05509907e-05 2.86700166e-05\n",
            " 2.69048493e-05 2.52483587e-05 2.36938538e-05 2.22350554e-05\n",
            " 2.08660711e-05 1.95813711e-05 1.83757661e-05 1.72443864e-05\n",
            " 1.61826618e-05 1.51863039e-05 1.42512880e-05 1.33738374e-05\n",
            " 1.25504076e-05 1.17776727e-05 1.10525114e-05 1.03719944e-05\n",
            " 9.73337307e-06 9.13406772e-06 8.57165761e-06 8.04387098e-06\n",
            " 7.54857596e-06 7.08377189e-06 6.64758130e-06 6.23824228e-06\n",
            " 5.85410138e-06 5.49360696e-06 5.15530285e-06 4.83782256e-06\n",
            " 4.53988368e-06 4.26028274e-06 3.99789037e-06 3.75164667e-06\n",
            " 3.52055699e-06 3.30368790e-06 3.10016339e-06 2.90916137e-06\n",
            " 2.72991032e-06 2.56168620e-06 2.40380949e-06 2.25564249e-06\n",
            " 2.11658671e-06 1.98608045e-06 1.86359656e-06 1.74864030e-06\n",
            " 1.64074732e-06 1.53948181e-06 1.44443473e-06 1.35522215e-06\n",
            " 1.27148372e-06 1.19288119e-06 1.11909707e-06 1.04983332e-06\n",
            " 9.84810153e-07 9.23764932e-07 8.66451074e-07 8.12637071e-07\n",
            " 7.62105552e-07 7.14652406e-07 6.70085955e-07 6.28226181e-07\n",
            " 5.88904001e-07 5.51960580e-07 5.17246694e-07 4.84622121e-07\n",
            " 4.53955082e-07 4.25121704e-07 3.98005520e-07 3.72496999e-07\n",
            " 3.48493104e-07 3.25896878e-07 3.04617047e-07 2.84567655e-07\n",
            " 2.65667717e-07 2.47840890e-07 2.31015167e-07 2.15122583e-07\n",
            " 2.00098944e-07 1.85883565e-07 1.72419024e-07 1.59650936e-07\n",
            " 1.47527726e-07 1.36000424e-07 1.25022469e-07 1.14549516e-07\n",
            " 1.04539264e-07 9.49512772e-08 8.57468264e-08 7.68887332e-08\n",
            " 6.83412162e-08 6.00697502e-08 5.20409240e-08 4.42223065e-08\n",
            " 3.65823160e-08 2.90900924e-08 2.17153724e-08 1.44283676e-08\n",
            " 7.19964300e-09] [ 3.23712977e-08  6.48556992e-08  9.75667031e-08  1.30618599e-07\n",
            "  1.64126870e-07  1.98208591e-07  2.32982841e-07  2.68571121e-07\n",
            "  3.05097774e-07  3.42690423e-07  3.81480413e-07  4.21603276e-07\n",
            "  4.63199198e-07  5.06413512e-07  5.51397208e-07  5.98307455e-07\n",
            "  6.47308156e-07  6.98570517e-07  7.52273646e-07  8.08605178e-07\n",
            "  8.67761932e-07  9.29950600e-07  9.95388465e-07  1.06430416e-06\n",
            "  1.13693848e-06  1.21354520e-06  1.29439198e-06  1.37976130e-06\n",
            "  1.46995143e-06  1.56527749e-06  1.66607254e-06  1.77268876e-06\n",
            "  1.88549866e-06  2.00489639e-06  2.13129912e-06  2.26514849e-06\n",
            "  2.40691217e-06  2.55708547e-06  2.71619308e-06  2.88479093e-06\n",
            "  3.06346808e-06  3.25284882e-06  3.45359484e-06  3.66640753e-06\n",
            "  3.89203045e-06  4.13125191e-06  4.38490775e-06  4.65388421e-06\n",
            "  4.93912110e-06  5.24161500e-06  5.56242283e-06  5.90266545e-06\n",
            "  6.26353168e-06  6.64628234e-06  7.05225475e-06  7.48286735e-06\n",
            "  7.93962469e-06  8.42412265e-06  8.93805404e-06  9.48321450e-06\n",
            "  1.00615088e-05  1.06749575e-05  1.13257039e-05  1.20160216e-05\n",
            "  1.27483228e-05  1.35251658e-05  1.43492651e-05  1.52234999e-05\n",
            "  1.61509248e-05  1.71347801e-05  1.81785035e-05  1.92857415e-05\n",
            "  2.04603629e-05  2.17064717e-05  2.30284217e-05  2.44308318e-05\n",
            "  2.59186019e-05  2.74969302e-05  2.91713312e-05  3.09476553e-05\n",
            "  3.28321089e-05  3.48312760e-05  3.69521417e-05  3.92021163e-05\n",
            "  4.15890608e-05  4.41213154e-05  4.68077274e-05  4.96576830e-05\n",
            "  5.26811399e-05  5.58886619e-05  5.92914558e-05  6.29014109e-05\n",
            "  6.67311400e-05  7.07940242e-05  7.51042588e-05  7.96769037e-05\n",
            "  8.45279353e-05  8.96743030e-05  9.51339878e-05  1.00926066e-04\n",
            "  1.07070774e-04  1.13589581e-04  1.20505264e-04  1.27841987e-04\n",
            "  1.35625382e-04  1.43882645e-04  1.52642626e-04  1.61935932e-04\n",
            "  1.71795034e-04  1.82254378e-04  1.93350509e-04  2.05122196e-04\n",
            "  2.17610569e-04  2.30859261e-04  2.44914564e-04  2.59825584e-04\n",
            "  2.75644421e-04  2.92426345e-04  3.10229990e-04  3.29117562e-04\n",
            "  3.49155054e-04  3.70412474e-04  3.92964095e-04  4.16888711e-04\n",
            "  4.42269914e-04  4.69196384e-04  4.97762201e-04  5.28067172e-04\n",
            "  5.60217181e-04  5.94324558e-04  6.30508474e-04  6.68895352e-04\n",
            "  7.09619313e-04  7.52822647e-04  7.98656302e-04  8.47280418e-04\n",
            "  8.98864887e-04  9.53589940e-04  1.01164679e-03  1.07323827e-03\n",
            "  1.13857959e-03  1.20789905e-03  1.28143884e-03  1.35945590e-03\n",
            "  1.44222284e-03  1.53002882e-03  1.62318064e-03  1.72200376e-03\n",
            "  1.82684348e-03  1.93806608e-03  2.05606018e-03  2.18123805e-03\n",
            "  2.31403704e-03  2.45492115e-03  2.60438263e-03  2.76294367e-03\n",
            "  2.93115829e-03  3.10961422e-03  3.29893498e-03  3.49978203e-03\n",
            "  3.71285713e-03  3.93890476e-03  4.17871470e-03  4.43312484e-03\n",
            "  4.70302409e-03  4.98935544e-03  5.29311934e-03  5.61537710e-03\n",
            "  5.95725469e-03  6.31994660e-03  6.70472007e-03  7.11291946e-03\n",
            "  7.54597101e-03  8.00538777e-03  8.49277492e-03  9.00983537e-03\n",
            "  9.55837570e-03  1.01403125e-02  1.07576789e-02  1.14126322e-02\n",
            "  1.21074605e-02  1.28445917e-02  1.36266011e-02  1.44562212e-02\n",
            "  1.53363505e-02  1.62700642e-02  1.72606246e-02  1.83114927e-02\n",
            "  1.94263402e-02  2.06090622e-02  2.18637912e-02  2.31949111e-02\n",
            "  2.46070728e-02  2.61052102e-02  2.76945578e-02  2.93806687e-02\n",
            "  3.11694341e-02  3.30671038e-02  3.50803082e-02  3.72160812e-02\n",
            "  3.94818852e-02  4.17189194e-02  4.39255535e-02  4.61001797e-02\n",
            "  4.82412133e-02  5.03470943e-02  5.24162880e-02  5.44472867e-02\n",
            "  5.64386104e-02  5.83888081e-02  6.02964587e-02  6.21601721e-02\n",
            "  6.39785902e-02  6.57503880e-02  6.74742745e-02  6.91489934e-02\n",
            "  7.07733244e-02  7.23460838e-02  7.38661257e-02  7.53323423e-02\n",
            "  7.67436654e-02  7.80990664e-02  7.93975576e-02  8.06381930e-02\n",
            "  8.18200685e-02  8.29423228e-02  8.40041383e-02  8.50047410e-02\n",
            "  8.59434020e-02  8.68194373e-02  8.76322084e-02  8.83811232e-02\n",
            "  8.90656359e-02  8.96852477e-02  9.02395071e-02  9.07280102e-02\n",
            "  9.11504011e-02  9.15063720e-02  9.17956635e-02  9.20180647e-02\n",
            "  9.21734137e-02  9.22615972e-02  9.22825509e-02  9.22362597e-02\n",
            "  9.21227572e-02  9.19421261e-02  9.16944980e-02  9.13800535e-02\n",
            "  9.09990216e-02  9.05516799e-02  9.00383546e-02  8.94594195e-02\n",
            "  8.88152966e-02  8.81064552e-02  8.73334119e-02  8.64967300e-02\n",
            "  8.55970191e-02  8.46349348e-02  8.36111783e-02  8.25264954e-02\n",
            "  8.13816767e-02  8.01775563e-02  7.89150115e-02  7.75949626e-02\n",
            "  7.62183712e-02  7.47862406e-02  7.32996143e-02  7.17595756e-02\n",
            "  7.01672467e-02  6.85237879e-02  6.68303968e-02  6.50883073e-02\n",
            "  6.32987889e-02  6.14631455e-02  5.95827148e-02  5.76588669e-02\n",
            "  5.56930039e-02  5.36865582e-02  5.16409918e-02  4.95577953e-02\n",
            "  4.74384868e-02  4.52846105e-02  4.30977360e-02  4.08794567e-02\n",
            "  3.86313891e-02  3.63551714e-02  3.40524622e-02  3.17249394e-02\n",
            "  2.93742991e-02  2.70022542e-02  2.46105331e-02  2.22008786e-02\n",
            "  1.97750467e-02  1.73348050e-02  1.48819316e-02  1.24182140e-02\n",
            "  9.94544743e-03  7.46543373e-03  4.97998008e-03  2.49089758e-03\n",
            " -1.96032423e-13 -2.49089758e-03 -4.97998008e-03 -7.46543374e-03\n",
            " -9.94544743e-03 -1.24182140e-02 -1.48819316e-02 -1.73348050e-02\n",
            " -1.97750467e-02 -2.22008786e-02 -2.46105331e-02 -2.70022542e-02\n",
            " -2.93742991e-02 -3.17249394e-02 -3.40524622e-02 -3.63551714e-02\n",
            " -3.86313891e-02 -4.08794567e-02 -4.30977360e-02 -4.52846105e-02\n",
            " -4.74384868e-02 -4.95577953e-02 -5.16409918e-02 -5.36865582e-02\n",
            " -5.56930039e-02 -5.76588669e-02 -5.95827148e-02 -6.14631455e-02\n",
            " -6.32987889e-02 -6.50883073e-02 -6.68303968e-02 -6.85237879e-02\n",
            " -7.01672467e-02 -7.17595756e-02 -7.32996143e-02 -7.47862406e-02\n",
            " -7.62183712e-02 -7.75949626e-02 -7.89150115e-02 -8.01775563e-02\n",
            " -8.13816767e-02 -8.25264954e-02 -8.36111783e-02 -8.46349348e-02\n",
            " -8.55970191e-02 -8.64967300e-02 -8.73334119e-02 -8.81064553e-02\n",
            " -8.88152966e-02 -8.94594195e-02 -9.00383546e-02 -9.05516799e-02\n",
            " -9.09990216e-02 -9.13800535e-02 -9.16944980e-02 -9.19421261e-02\n",
            " -9.21227572e-02 -9.22362597e-02 -9.22825509e-02 -9.22615972e-02\n",
            " -9.21734137e-02 -9.20180647e-02 -9.17956635e-02 -9.15063720e-02\n",
            " -9.11504011e-02 -9.07280102e-02 -9.02395071e-02 -8.96852477e-02\n",
            " -8.90656359e-02 -8.83811232e-02 -8.76322084e-02 -8.68194373e-02\n",
            " -8.59434020e-02 -8.50047410e-02 -8.40041383e-02 -8.29423228e-02\n",
            " -8.18200685e-02 -8.06381930e-02 -7.93975576e-02 -7.80990664e-02\n",
            " -7.67436654e-02 -7.53323423e-02 -7.38661257e-02 -7.23460838e-02\n",
            " -7.07733244e-02 -6.91489934e-02 -6.74742745e-02 -6.57503880e-02\n",
            " -6.39785902e-02 -6.21601721e-02 -6.02964587e-02 -5.83888081e-02\n",
            " -5.64386104e-02 -5.44472867e-02 -5.24162880e-02 -5.03470943e-02\n",
            " -4.82412133e-02 -4.61001797e-02 -4.39255535e-02 -4.17189194e-02\n",
            " -3.94818852e-02 -3.72160812e-02 -3.50803082e-02 -3.30671038e-02\n",
            " -3.11694341e-02 -2.93806687e-02 -2.76945578e-02 -2.61052102e-02\n",
            " -2.46070728e-02 -2.31949111e-02 -2.18637912e-02 -2.06090622e-02\n",
            " -1.94263402e-02 -1.83114927e-02 -1.72606246e-02 -1.62700642e-02\n",
            " -1.53363505e-02 -1.44562212e-02 -1.36266011e-02 -1.28445917e-02\n",
            " -1.21074605e-02 -1.14126322e-02 -1.07576789e-02 -1.01403125e-02\n",
            " -9.55837570e-03 -9.00983537e-03 -8.49277492e-03 -8.00538777e-03\n",
            " -7.54597101e-03 -7.11291946e-03 -6.70472007e-03 -6.31994660e-03\n",
            " -5.95725469e-03 -5.61537710e-03 -5.29311934e-03 -4.98935544e-03\n",
            " -4.70302409e-03 -4.43312484e-03 -4.17871470e-03 -3.93890476e-03\n",
            " -3.71285713e-03 -3.49978203e-03 -3.29893498e-03 -3.10961422e-03\n",
            " -2.93115829e-03 -2.76294367e-03 -2.60438263e-03 -2.45492115e-03\n",
            " -2.31403704e-03 -2.18123805e-03 -2.05606018e-03 -1.93806608e-03\n",
            " -1.82684348e-03 -1.72200376e-03 -1.62318064e-03 -1.53002882e-03\n",
            " -1.44222284e-03 -1.35945590e-03 -1.28143884e-03 -1.20789905e-03\n",
            " -1.13857959e-03 -1.07323827e-03 -1.01164679e-03 -9.53589940e-04\n",
            " -8.98864887e-04 -8.47280418e-04 -7.98656302e-04 -7.52822647e-04\n",
            " -7.09619313e-04 -6.68895352e-04 -6.30508474e-04 -5.94324558e-04\n",
            " -5.60217181e-04 -5.28067172e-04 -4.97762201e-04 -4.69196384e-04\n",
            " -4.42269914e-04 -4.16888711e-04 -3.92964095e-04 -3.70412474e-04\n",
            " -3.49155054e-04 -3.29117562e-04 -3.10229990e-04 -2.92426345e-04\n",
            " -2.75644421e-04 -2.59825584e-04 -2.44914563e-04 -2.30859261e-04\n",
            " -2.17610569e-04 -2.05122196e-04 -1.93350509e-04 -1.82254378e-04\n",
            " -1.71795033e-04 -1.61935932e-04 -1.52642626e-04 -1.43882645e-04\n",
            " -1.35625382e-04 -1.27841987e-04 -1.20505264e-04 -1.13589581e-04\n",
            " -1.07070774e-04 -1.00926066e-04 -9.51339878e-05 -8.96743030e-05\n",
            " -8.45279353e-05 -7.96769037e-05 -7.51042588e-05 -7.07940242e-05\n",
            " -6.67311400e-05 -6.29014108e-05 -5.92914558e-05 -5.58886619e-05\n",
            " -5.26811399e-05 -4.96576830e-05 -4.68077273e-05 -4.41213153e-05\n",
            " -4.15890608e-05 -3.92021162e-05 -3.69521417e-05 -3.48312760e-05\n",
            " -3.28321088e-05 -3.09476553e-05 -2.91713312e-05 -2.74969301e-05\n",
            " -2.59186019e-05 -2.44308318e-05 -2.30284217e-05 -2.17064717e-05\n",
            " -2.04603629e-05 -1.92857415e-05 -1.81785035e-05 -1.71347801e-05\n",
            " -1.61509248e-05 -1.52234999e-05 -1.43492651e-05 -1.35251658e-05\n",
            " -1.27483227e-05 -1.20160216e-05 -1.13257038e-05 -1.06749574e-05\n",
            " -1.00615088e-05 -9.48321448e-06 -8.93805401e-06 -8.42412263e-06\n",
            " -7.93962467e-06 -7.48286733e-06 -7.05225472e-06 -6.64628231e-06\n",
            " -6.26353165e-06 -5.90266543e-06 -5.56242280e-06 -5.24161498e-06\n",
            " -4.93912107e-06 -4.65388419e-06 -4.38490772e-06 -4.13125189e-06\n",
            " -3.89203043e-06 -3.66640750e-06 -3.45359481e-06 -3.25284879e-06\n",
            " -3.06346805e-06 -2.88479090e-06 -2.71619306e-06 -2.55708544e-06\n",
            " -2.40691214e-06 -2.26514847e-06 -2.13129909e-06 -2.00489637e-06\n",
            " -1.88549864e-06 -1.77268874e-06 -1.66607252e-06 -1.56527747e-06\n",
            " -1.46995141e-06 -1.37976128e-06 -1.29439197e-06 -1.21354519e-06\n",
            " -1.13693847e-06 -1.06430415e-06 -9.95388453e-07 -9.29950589e-07\n",
            " -8.67761922e-07 -8.08605168e-07 -7.52273637e-07 -6.98570509e-07\n",
            " -6.47308149e-07 -5.98307448e-07 -5.51397201e-07 -5.06413506e-07\n",
            " -4.63199193e-07 -4.21603272e-07 -3.81480410e-07 -3.42690420e-07\n",
            " -3.05097772e-07 -2.68571119e-07 -2.32982839e-07 -1.98208588e-07\n",
            " -1.64126868e-07 -1.30618597e-07 -9.75667012e-08 -6.48556981e-08\n",
            " -3.23712974e-08]\n"
          ],
          "name": "stdout"
        }
      ]
    }
  ]
}
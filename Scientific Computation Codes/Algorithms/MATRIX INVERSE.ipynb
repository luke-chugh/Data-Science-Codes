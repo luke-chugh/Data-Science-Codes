{
  "nbformat": 4,
  "nbformat_minor": 0,
  "metadata": {
    "colab": {
      "name": "MATRIX INVERSE.ipynb",
      "provenance": []
    },
    "kernelspec": {
      "name": "python3",
      "display_name": "Python 3"
    }
  },
  "cells": [
    {
      "cell_type": "markdown",
      "metadata": {
        "id": "mHPFtKb-UAlC"
      },
      "source": [
        "# **INVERSE OF A MATRIX**"
      ]
    },
    {
      "cell_type": "code",
      "metadata": {
        "colab": {
          "base_uri": "https://localhost:8080/"
        },
        "id": "M7T9LzcbT_Mq",
        "outputId": "d3a699c2-f056-4cd8-8fe8-29152a1e8db5"
      },
      "source": [
        "from pylab import *\r\n",
        "from numpy import *\r\n",
        "\r\n",
        "a = array([ [1.,1.,1.] , [1.,-1.,1.] , [2.,-1.,3.] ])\r\n",
        "b = array([ [1.,0.,0.] , [0.,1.,0.] , [0.,0.,1.] ])\r\n",
        "n = 3\r\n",
        "\r\n",
        "'To make lower traingular matrix'        \r\n",
        "for k in range(0,n-1):\r\n",
        "    for i in range(k+1,n):\r\n",
        "        c = ( a[i][k]/a[k][k] )\r\n",
        "        for j in range(0,n):\r\n",
        "            a[i][j] -= c*( a[k][j] )\r\n",
        "            b[i][j] -= c*( b[k][j] )\r\n",
        "            \r\n",
        "'To make upper traingular matrix'\r\n",
        "for k in range(n-1,0,-1):  \r\n",
        "    for i in range(k-1,-1,-1):    \r\n",
        "        c = ( a[i][k]/a[k][k] )\r\n",
        "        for j in range(0,n): \r\n",
        "            a[i][j] -= c*( a[k][j] )\r\n",
        "            b[i][j] -= c*( b[k][j] )\r\n",
        "            \r\n",
        "'To make identity Matrix and find inverse matrix'\r\n",
        "for i in range(0,n):\r\n",
        "    c = a[i][i]\r\n",
        "    for j in range(0,n):\r\n",
        "        a[i][j] =  a[i][j]/c\r\n",
        "        b[i][j] =  b[i][j]/c\r\n",
        "        \r\n",
        "a = array([ [1.,1.,1.] , [1.,-1.,1.] , [2.,-1.,3.] ])       \r\n",
        "print('THE INVERSE OF MATRIX' ,'\\n', f'{a}','\\n','\\n','IS','\\n','\\n',b)   \r\n",
        "\r\n",
        "        \r\n",
        "    \r\n",
        "    "
      ],
      "execution_count": 1,
      "outputs": [
        {
          "output_type": "stream",
          "text": [
            "THE INVERSE OF MATRIX \n",
            " [[ 1.  1.  1.]\n",
            " [ 1. -1.  1.]\n",
            " [ 2. -1.  3.]] \n",
            " \n",
            " IS \n",
            " \n",
            " [[ 1.   2.  -1. ]\n",
            " [ 0.5 -0.5 -0. ]\n",
            " [-0.5 -1.5  1. ]]\n"
          ],
          "name": "stdout"
        }
      ]
    }
  ]
}
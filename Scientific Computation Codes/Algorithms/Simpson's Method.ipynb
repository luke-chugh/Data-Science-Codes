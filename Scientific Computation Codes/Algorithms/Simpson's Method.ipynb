{
 "cells": [
  {
   "cell_type": "markdown",
   "metadata": {},
   "source": [
    "# Finding Integral of a complex function using simpson's method"
   ]
  },
  {
   "cell_type": "code",
   "execution_count": 2,
   "metadata": {},
   "outputs": [
    {
     "name": "stdout",
     "output_type": "stream",
     "text": [
      "value of lower limit =   0\n",
      "value of upper limit =  5\n",
      "value of n =  1000\n",
      "integral =   7112361.179060449\n"
     ]
    }
   ],
   "source": [
    "from pylab import *\n",
    "from math import *\n",
    "\n",
    "a = 0.0\n",
    "b = 0.0\n",
    "c = 1.08*pow(10,-7)\n",
    "d = -1.36*pow(10,-8)\n",
    "e = -3.59*pow(10,-5)\n",
    "i = -1.072*pow(10,-6)\n",
    "g = 4.15*pow(10,-3)\n",
    "h = 9.2*pow(10,-4)\n",
    "j = -2.06*pow(10,-1)\n",
    "k = -7*pow(10,-2)\n",
    "l =  4.3316\n",
    "\n",
    "def f(x):\n",
    "    return a*(x**10) + b*(x**9) + c*(x**8) + d*(x**7) + e*(x**6) + i*(x**5) + g*(x**4) + h*(x**3) + j*(x**2) + k*x + l\n",
    "\n",
    "\n",
    "a = int(input(\"value of lower limit =   \"))\n",
    "b = int(input(\"value of upper limit =  \"))\n",
    "n = int(input(\"value of n =  \"))\n",
    "integral = 0.0\n",
    "\n",
    "h = (b-a)/n\n",
    "for i in range(0,n-1,2):\n",
    "    y0 = f(a+i*h)\n",
    "    y1 = 4*f(a+(i+1)*h)\n",
    "    y2 = f(a+(i+2)*h)\n",
    "    integral += (h/3)*(y0+y1+y2)\n",
    "\n",
    "print(\"integral =  \" , integral)"
   ]
  },
  {
   "cell_type": "code",
   "execution_count": null,
   "metadata": {},
   "outputs": [],
   "source": []
  }
 ],
 "metadata": {
  "kernelspec": {
   "display_name": "Python 3",
   "language": "python",
   "name": "python3"
  },
  "language_info": {
   "codemirror_mode": {
    "name": "ipython",
    "version": 3
   },
   "file_extension": ".py",
   "mimetype": "text/x-python",
   "name": "python",
   "nbconvert_exporter": "python",
   "pygments_lexer": "ipython3",
   "version": "3.8.3"
  }
 },
 "nbformat": 4,
 "nbformat_minor": 4
}

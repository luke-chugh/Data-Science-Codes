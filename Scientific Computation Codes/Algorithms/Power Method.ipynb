{
 "cells": [
  {
   "cell_type": "markdown",
   "metadata": {},
   "source": [
    "## Power Method (Normalised) "
   ]
  },
  {
   "cell_type": "code",
   "execution_count": 14,
   "metadata": {},
   "outputs": [
    {
     "name": "stdout",
     "output_type": "stream",
     "text": [
      "The matrix A = \n",
      " [[19.  -1.  -2.   2.   0.5]\n",
      " [-1.   5.  -1.  -2.   1. ]\n",
      " [-2.  -1.   2.  -1.   5. ]\n",
      " [ 2.  -2.  -1.   3.   0.1]\n",
      " [50.  -1.  -2.   2.   2. ]] \n",
      "\n",
      "The Eigenvalues of A by LinAlg are: \n",
      " [19.12428569 -2.41663392  1.03897261  7.30349304  5.9498826 ] \n",
      "\n",
      "The eigenvalue in step 1 is:  49.0 \n",
      "\n",
      "The eigenvalue in step 2 is:  20.408163265306126 \n",
      "\n",
      "The eigenvalue in step 3 is:  20.0448 \n",
      "\n",
      "The eigenvalue in step 4 is:  19.339534442848016 \n",
      "\n",
      "The eigenvalue in step 5 is:  19.20127003993994 \n",
      "\n",
      "The eigenvalue in step 6 is:  19.14815329038658 \n",
      "\n",
      "The eigenvalue in step 7 is:  19.132223476511506 \n",
      "\n",
      "The eigenvalue in step 8 is:  19.12688811870647 \n",
      "\n",
      "The eigenvalue in step 9 is:  19.125154595872335 \n",
      "\n",
      "The eigenvalue in step 10 is:  19.124577633351876 \n",
      "\n",
      "The eigenvalue in step 11 is:  19.124384904952308 \n",
      "\n",
      "The eigenvalue in step 12 is:  19.12431974208691 \n",
      "\n",
      "The dominant eigenvalue is 19.12431974208691\n",
      "The corresponding eigenvector is [0.35161191 0.02391151 0.24768121 0.03148794 1.        ]\n",
      "Number of steps taken - 12\n"
     ]
    }
   ],
   "source": [
    "from pylab import *\n",
    "import numpy as np\n",
    "\n",
    "A=np.array([[19,-1,-2,2,0.5],[-1,5,-1,-2,1],[-2,-1,2,-1,5],[2,-2,-1,3,0.1],[50,-1,-2,2,2]],dtype=np.float64)\n",
    "print('The matrix A = \\n',A ,'\\n')\n",
    "X=np.array([-1,-1,0,0,0],dtype=np.float64)\n",
    "b=np.argmax(np.abs(X))\n",
    "c=X[b]\n",
    "Y=X/X[b] \n",
    "\n",
    "m=np.linalg.eigvals(A)\n",
    "print('The Eigenvalues of A by LinAlg are: \\n' , m , '\\n')\n",
    "\n",
    "e , n = 1.0 , 0\n",
    "while e>0.0001:\n",
    "    X=np.dot(A,Y)\n",
    "    b1=np.argmax(np.abs(X))\n",
    "    c1=X[b1]\n",
    "    Y=X/X[b1]\n",
    "    e=abs(c1-c)\n",
    "    c=c1\n",
    "    print(f'The eigenvalue in step {n+1} is: ',c, '\\n')\n",
    "    n+=1\n",
    "    \n",
    "print(f'The dominant eigenvalue is {c}')\n",
    "print(f'The corresponding eigenvector is {Y}')\n",
    "print(f'Number of steps taken - {n}')"
   ]
  },
  {
   "cell_type": "markdown",
   "metadata": {},
   "source": [
    "## Power Method (Inverse) "
   ]
  },
  {
   "cell_type": "code",
   "execution_count": 24,
   "metadata": {},
   "outputs": [
    {
     "name": "stdout",
     "output_type": "stream",
     "text": [
      "The matrix A = \n",
      " [[19.  -1.  -2.   2.   0.5]\n",
      " [-1.   5.  -1.  -2.   1. ]\n",
      " [-2.  -1.   2.  -1.   5. ]\n",
      " [ 2.  -2.  -1.   3.   0.1]\n",
      " [50.  -1.  -2.   2.   2. ]] \n",
      "\n",
      "The eigenvalues of matrix A by LinAlg are: \n",
      " [19.12428569 -2.41663392  1.03897261  7.30349304  5.9498826 ] \n",
      "\n",
      "The smallest absolute eigenvalue of A is: 1.0389943797611874 \n",
      "\n",
      "The corresponding eigenvector is: [-0.00273821  0.63440048  0.7057435   1.          0.1901526 ] \n",
      "\n",
      "Number of steps taken = 14\n"
     ]
    }
   ],
   "source": [
    "\n",
    "print('The matrix A = \\n',A ,'\\n')\n",
    "a = np.linalg.eigvals(A)\n",
    "print('The eigenvalues of matrix A by LinAlg are: \\n',a,'\\n')\n",
    "B = np.linalg.inv(A)\n",
    "\n",
    "X=np.array([-1,-1,0,0,0],dtype=np.float64)\n",
    "b=np.argmax(np.abs(X))\n",
    "c=X[b]\n",
    "Y=X/X[b] \n",
    "\n",
    "e,n = 1.0,0\n",
    "while e>0.0001:\n",
    "    X=np.dot(B,Y)\n",
    "    b1=np.argmax(np.abs(X))\n",
    "    c1=X[b1]\n",
    "    Y=X/X[b1]\n",
    "    e=abs(c1-c)\n",
    "    c=c1\n",
    "    n+=1\n",
    "    \n",
    "print(f'The smallest absolute eigenvalue of A is: {1/c} \\n')\n",
    "print(f'The corresponding eigenvector is: {Y} \\n')\n",
    "print(f'Number of steps taken = {n}')"
   ]
  },
  {
   "cell_type": "markdown",
   "metadata": {},
   "source": [
    "## Shifting Power Method "
   ]
  },
  {
   "cell_type": "code",
   "execution_count": 26,
   "metadata": {},
   "outputs": [
    {
     "name": "stdout",
     "output_type": "stream",
     "text": [
      "The eigenvalues of A by LinAlg are: \n",
      " [19.12428569 -2.41663392  1.03897261  7.30349304  5.9498826 ] \n",
      "\n",
      "The dominant eigenvalue is: 19.12431974208691 \n",
      "\n",
      "The corresponding eigenvector is: [0.35161191 0.02391151 0.24768121 0.03148794 1.        ] \n",
      "\n",
      "Number of steps taken - 12 \n",
      "\n",
      "The eigenvalues of B by LinAlg are: \n",
      " [-3.40564263e-05 -2.15409537e+01 -1.80853471e+01 -1.18208267e+01\n",
      " -1.31744371e+01] \n",
      "\n",
      "The smallest eigenvalue of A is: -2.4171504566854374 \n",
      "\n",
      "The eigenvector corresponding to this eigenvalue is [ 0.09914097  0.32116838  1.          0.27984094 -0.72355527] \n",
      "\n",
      "Number of steps taken - 43\n"
     ]
    }
   ],
   "source": [
    "from pylab import *\n",
    "import numpy as np\n",
    "\n",
    "A=np.array([[19,-1,-2,2,0.5],[-1,5,-1,-2,1],[-2,-1,2,-1,5],[2,-2,-1,3,0.1],[50,-1,-2,2,2]],dtype=np.float64)\n",
    "X=np.array([-1,-1,0,0,0],dtype=np.float64)\n",
    "b=np.argmax(np.abs(X))\n",
    "c=X[b]\n",
    "Y=X/c\n",
    "\n",
    "m=np.linalg.eigvals(A)\n",
    "print('The eigenvalues of A by LinAlg are: \\n',m,'\\n')\n",
    "\n",
    "e,n = 1.0 , 0\n",
    "while e>0.0001:\n",
    "    X=np.dot(A,Y)\n",
    "    b1=np.argmax(np.abs(X))\n",
    "    c1=X[b1]\n",
    "    Y=X/X[b1]\n",
    "    e=abs(c1-c)\n",
    "    c=c1\n",
    "    n+=1\n",
    "    \n",
    "print(f'The dominant eigenvalue is: {c} \\n')\n",
    "print(f'The corresponding eigenvector is: {Y} \\n')\n",
    "print(f'Number of steps taken - {n} \\n')\n",
    "\n",
    "I=np.identity(len(A[:,0]),dtype=np.float64)\n",
    "B= A - c*I\n",
    "\n",
    "X=np.array([-1,-1,0,0,0],dtype=np.float64)\n",
    "b1=np.argmax(np.abs(X))\n",
    "c2=X[b1]\n",
    "Y=X/X[b1] \n",
    "\n",
    "a=np.linalg.eigvals(B)\n",
    "print('The eigenvalues of B by LinAlg are: \\n',a,'\\n')\n",
    "\n",
    "e,n = 1.0,0\n",
    "while e>0.0001:\n",
    "    X=np.dot(B,Y)\n",
    "    b2=np.argmax(np.abs(X))\n",
    "    c3=X[b2]\n",
    "    Y=X/X[b2]\n",
    "    e=abs(c3-c2)\n",
    "    c2=c3\n",
    "    n+=1\n",
    "    \n",
    "print(f'The smallest eigenvalue of A is: {c2+ c} \\n')\n",
    "print(f'The eigenvector corresponding to this eigenvalue is {Y} \\n')\n",
    "print(f'Number of steps taken - {n}')\n"
   ]
  },
  {
   "cell_type": "markdown",
   "metadata": {},
   "source": [
    "## Use of Linear Algebra for finding last two eigenvalues"
   ]
  },
  {
   "cell_type": "code",
   "execution_count": 97,
   "metadata": {},
   "outputs": [
    {
     "name": "stdout",
     "output_type": "stream",
     "text": [
      "sum =  31.0 and Determinant =  -2086.599999999999\n",
      "The last Two eigenvalues are:  7.3 and 5.949\n"
     ]
    }
   ],
   "source": [
    "from pylab import *\n",
    "import numpy as np\n",
    "\n",
    "A = np.array([[19,-1,-2,2,0.5],[-1,5,-1,-2,1],[-2,-1,2,-1,5],[2,-2,-1,3,0.1],[50,-1,-2,2,2]],dtype=np.float64)\n",
    "N = 5\n",
    "## From Linear Algebra we know that sum of all the diagonal entries of a diagonalizable matrix = sum of all of its eigen values\n",
    "sum = 0.0\n",
    "for i in range(N):\n",
    "    sum = sum + A[i][i]\n",
    "# We have already found 3 eigenvalues so, let m and n be the 2 unknown eigenvalues:\n",
    "# m + n = sum -  19.12428569 - (−2.41663392) - 1.03897261 . Therefore m+n = 13.25\n",
    "# Also from linear algebra we know that product of all of its eigenvalues = Det(A)\n",
    "Det  = np.linalg.det(A)\n",
    "print('sum = ',sum,'and','Determinant = ',Det)\n",
    "# So, Det = 19.12428569 x (−2.41663392) x 1.03897261 x m x n\n",
    "# So mxn = 43.45 and m+n = 13.25 . Solving these 2 eq we get x = 7.30 and y = 5.949\n",
    "print('The last Two eigenvalues are: ', 7.30 ,'and', 5.949)\n",
    "    \n"
   ]
  },
  {
   "cell_type": "markdown",
   "metadata": {},
   "source": [
    "## Conclusions\n",
    "Ans)a) <br>The 5 eigenvalues of A are: <br> $$[19.12428569 , -2.41663392 , 1.03897261 ,  7.30349304 ,  5.9498826 ]$$ <br>\n",
    "Ans)b) <br>The Dominant Eigenvalue of A is: $19.12428569$ and the corresponding eigenvector is:     \n",
    "$$[0.35161191 , 0.02391151 , 0.24768121  ,0.03148794 , 1.00000000]$$ <br>\n",
    "The smallest absolute eigenvalue of A is: $1.0389943797611874$ and the corresponding eigenvector is:\n",
    "$$[-0.00273821,0.63440048,0.7057435,1.00000000,0.1901526 ] $$ <br>\n",
    "The smallest eigenvalue of A is: $-2.4171504566854374$ and the corresponding eigenvector is:\n",
    "$$[ 0.09914097,0.32116838,1.00000000,0.27984094,-0.72355527]$$ <br>\n",
    "Ans)c) <br>The eigenvalues at $5^{th}$ and $7^{th}$ iteration are: $19.20127003993994$ and $19.132223476511506$ respectively<br>\n",
    "\n",
    "## Limitations\n",
    "For any general nxn matrix it won't be possible to determine all the eigenvalues using power method as it is highly dependent on the ratios of the consecutive eigenvalues $\\frac{|\\lambda_2|}{|\\lambda_1|} \\approx 1$ so, its not necessary that the method might converge , also repeated eigenvalues can not be computed and in case of zero eigenvalue the method will computationally give a division by zero error. Power method can never computationally give us the -ve( 2nd largest $|\\lambda|$) ; Also in Linear Algebra technique, it can not be used for a non-diagonalizable matrix \n"
   ]
  },
  {
   "cell_type": "code",
   "execution_count": null,
   "metadata": {},
   "outputs": [],
   "source": []
  }
 ],
 "metadata": {
  "kernelspec": {
   "display_name": "Python 3",
   "language": "python",
   "name": "python3"
  },
  "language_info": {
   "codemirror_mode": {
    "name": "ipython",
    "version": 3
   },
   "file_extension": ".py",
   "mimetype": "text/x-python",
   "name": "python",
   "nbconvert_exporter": "python",
   "pygments_lexer": "ipython3",
   "version": "3.8.3"
  }
 },
 "nbformat": 4,
 "nbformat_minor": 2
}

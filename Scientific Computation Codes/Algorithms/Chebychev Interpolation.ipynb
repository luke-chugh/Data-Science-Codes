{
 "cells": [
  {
   "cell_type": "markdown",
   "metadata": {},
   "source": [
    "# Chebychev Interpolation"
   ]
  },
  {
   "cell_type": "code",
   "execution_count": 1,
   "metadata": {},
   "outputs": [
    {
     "name": "stdout",
     "output_type": "stream",
     "text": [
      "[0.9238795325112867, 0.38268343236508984, -0.3826834323650897]\n",
      "[2.5190441714069842, 1.4662138007571095, 0.682028773350537]\n",
      "[2.5190441714069842, 1.9453768612993823, 0.7047419616447732]\n",
      "[0.6510690634890806, 0.6348061494654975, 0.9709142162643011, 1.6593932638854914, 2.700243292329068]\n"
     ]
    },
    {
     "data": {
      "text/plain": [
       "[<matplotlib.lines.Line2D at 0x1e1c6c0d1c0>]"
      ]
     },
     "execution_count": 1,
     "metadata": {},
     "output_type": "execute_result"
    },
    {
     "data": {
      "image/png": "[encoded data removed]",
      "text/plain": [
       "<Figure size 432x288 with 1 Axes>"
      ]
     },
     "metadata": {
      "needs_background": "light"
     },
     "output_type": "display_data"
    }
   ],
   "source": [
    "import numpy as np\n",
    "import matplotlib.pyplot as plt\n",
    "\n",
    "def f(x):\n",
    "    return pow(np.e,x)\n",
    "def fpr(x):\n",
    "    return pow(np.e,x)\n",
    "######### roots of chebyshev in X1 array #########\n",
    "######### scaled roots of chebyshev in X array #######\n",
    "a = -1.0\n",
    "b = 1.0\n",
    "\n",
    "FF = []\n",
    "l = 5\n",
    "Y = np.linspace(a,b,l)\n",
    "n = 3\n",
    "F = []\n",
    "X = []\n",
    "for i in range(n):\n",
    "    X.append(np.cos((((2*i)+1)/((2*n)+2))*np.pi))\n",
    "print(X)\n",
    "for i in range(n):\n",
    "    F.append(f(X[i]))\n",
    "sum = 0.0\n",
    "pro = 1.0\n",
    "C = [F[0]]\n",
    "print(F)\n",
    "for i in range(1,n):\n",
    "    for j in range(i):\n",
    "        sum += C[j]*pro\n",
    "        pro = pro*(X[i] - X[j])\n",
    "    C.append((F[i]-sum)/pro)\n",
    "    pro = 1.0\n",
    "    sum = 0.0\n",
    "print(C)\n",
    "for i in range(l):\n",
    "    FF.append(fpr(Y[i]))\n",
    "Qp = []\n",
    "for i in range(l):\n",
    "    for j in range(n):\n",
    "        sum += C[j]*pro\n",
    "        pro = pro*(Y[i] - X[j])\n",
    "    Qp.append(sum)\n",
    "    pro = 1.0\n",
    "    sum = 0.0\n",
    "print(Qp)\n",
    "#plt.plot(Y,FF,'.')\n",
    "plt.plot(Y,Qp)\n"
   ]
  },
  {
   "cell_type": "code",
   "execution_count": null,
   "metadata": {},
   "outputs": [],
   "source": []
  }
 ],
 "metadata": {
  "kernelspec": {
   "display_name": "Python 3",
   "language": "python",
   "name": "python3"
  },
  "language_info": {
   "codemirror_mode": {
    "name": "ipython",
    "version": 3
   },
   "file_extension": ".py",
   "mimetype": "text/x-python",
   "name": "python",
   "nbconvert_exporter": "python",
   "pygments_lexer": "ipython3",
   "version": "3.8.3"
  }
 },
 "nbformat": 4,
 "nbformat_minor": 4
}

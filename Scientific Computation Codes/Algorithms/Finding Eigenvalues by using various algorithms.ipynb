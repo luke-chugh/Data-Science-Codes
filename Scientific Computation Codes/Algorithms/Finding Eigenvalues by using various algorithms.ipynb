{
 "cells": [
  {
   "cell_type": "markdown",
   "metadata": {},
   "source": [
    "# Finding eigenvalues of a matrix by QR method"
   ]
  },
  {
   "cell_type": "code",
   "execution_count": 44,
   "metadata": {},
   "outputs": [
    {
     "name": "stderr",
     "output_type": "stream",
     "text": [
      "D:\\Anaconda\\lib\\site-packages\\ipykernel_launcher.py:5: ComplexWarning: Casting complex values to real discards the imaginary part\n",
      "  \"\"\"\n"
     ]
    },
    {
     "name": "stdout",
     "output_type": "stream",
     "text": [
      "Q: \n",
      " [[ 0.96 -0.27  0.09]\n",
      " [-0.    0.33  0.94]\n",
      " [ 0.29  0.9  -0.31]] \n",
      " \n",
      " R: \n",
      " [[10.4-0.6j  0.9+1.9j  3.2+1.9j]\n",
      " [ 0. -2.5j  3. -0.5j  1.1-0.5j]\n",
      " [ 0. -1.3j  0. +0.2j  2.8+0.2j]] \n",
      " \n",
      " QR: \n",
      " [[10.-0.j  0.+2.j  3.+2.j]\n",
      " [ 0.-2.j  1.+0.j  3.+0.j]\n",
      " [ 3.-2.j  3.-0.j  1.-0.j]] \n",
      " \n",
      " S: \n",
      " [[10.+0.j  0.+2.j  3.+2.j]\n",
      " [-0.-2.j  1.+0.j  3.+0.j]\n",
      " [ 3.-2.j  3.+0.j  1.+0.j]] \n",
      "\n",
      "The eigenvalues of matrix S are: \n",
      " [[10.99017622-4.33649354e-18j]\n",
      " [ 3.39508097+2.75629675e-17j]\n",
      " [-2.38525719-3.78430010e-17j]]\n"
     ]
    }
   ],
   "source": [
    "from numpy import *\n",
    "S = array([[10,2j,3+2j],[-2j,1,3],[3-2j,3,1]],dtype=complex)\n",
    "\n",
    "def f(A):\n",
    "    A , orthonormal_basis = array(A,dtype=float),[]\n",
    "    for i in range(len(A)):\n",
    "        a = A[i]\n",
    "        for j in range(len(orthonormal_basis)):\n",
    "            a -= dot(A[i],orthonormal_basis[j])*orthonormal_basis[j]\n",
    "        ao = a/linalg.norm(a)\n",
    "        orthonormal_basis.append(ao) \n",
    "    return transpose(orthonormal_basis) \n",
    "\n",
    "def QR(A):\n",
    "    Z = [A[:,i] for i in range(len(A))]\n",
    "    Q,Q_t = f(Z),transpose(f(Z))\n",
    "    R = dot(Q_t,A)\n",
    "    return Q,R\n",
    "\n",
    "Q,R = QR(S)\n",
    "print('Q:','\\n',Q.round(2),'\\n','\\n','R:','\\n',R.round(1),'\\n','\\n','QR:','\\n',dot(Q,R).round(2),'\\n','\\n','S:','\\n',S,'\\n')\n",
    "for i in range(0,1000):\n",
    "    Q,R = QR(S)\n",
    "    A1 = dot(R,Q)\n",
    "    S = A1\n",
    "    \n",
    "print('The eigenvalues of matrix S are:','\\n',diag(S).reshape(len(S),1))\n",
    "\n"
   ]
  },
  {
   "cell_type": "markdown",
   "metadata": {},
   "source": [
    "# Finding eigenvalues of a matrix by Gram Schmidt"
   ]
  },
  {
   "cell_type": "code",
   "execution_count": 45,
   "metadata": {
    "scrolled": true
   },
   "outputs": [
    {
     "name": "stdout",
     "output_type": "stream",
     "text": [
      "Q: \n",
      " [[ 0.35 -0.09 -0.46 -0.38  0.71]\n",
      " [-0.02  0.91 -0.1   0.33  0.23]\n",
      " [-0.04 -0.19  0.7   0.31  0.61]\n",
      " [ 0.04 -0.36 -0.49  0.79  0.05]\n",
      " [ 0.93  0.06  0.22  0.13 -0.24]] \n",
      " \n",
      " R: \n",
      " [[53.6 -1.4 -2.7  2.8  1.8]\n",
      " [-0.   5.5 -0.9 -2.8 -0. ]\n",
      " [-0.  -0.   2.5 -2.4  3.6]\n",
      " [-0.   0.  -0.   0.9  2. ]\n",
      " [ 0.  -0.   0.   0.   3.2]] \n",
      " \n",
      " QR: \n",
      " [[19.  -1.  -2.   2.   0.5]\n",
      " [-1.   5.  -1.  -2.   1. ]\n",
      " [-2.  -1.   2.  -1.   5. ]\n",
      " [ 2.  -2.  -1.   3.   0.1]\n",
      " [50.  -1.  -2.   2.   2. ]] \n",
      " \n",
      " S: \n",
      " [[19.  -1.  -2.   2.   0.5]\n",
      " [-1.   5.  -1.  -2.   1. ]\n",
      " [-2.  -1.   2.  -1.   5. ]\n",
      " [ 2.  -2.  -1.   3.   0.1]\n",
      " [50.  -1.  -2.   2.   2. ]] \n",
      "\n",
      "The eigenvalues of matrix S are: \n",
      " [[19.12428569]\n",
      " [ 7.30349304]\n",
      " [ 5.9498826 ]\n",
      " [-2.41663392]\n",
      " [ 1.03897261]]\n"
     ]
    }
   ],
   "source": [
    "from numpy import *\n",
    "S = array([[19,-1,-2,2,0.5],[-1,5,-1,-2,1],[-2,-1,2,-1,5],[2,-2,-1,3,0.1],[50,-1,-2,2,2]],dtype=float)\n",
    "\n",
    "def f(A):\n",
    "    A , orthonormal_basis = array(A,dtype=float),[]\n",
    "    for i in range(len(A)):\n",
    "        a = A[i]\n",
    "        for j in range(len(orthonormal_basis)):\n",
    "            a -= dot(A[i],orthonormal_basis[j])*orthonormal_basis[j]\n",
    "        ao = a/linalg.norm(a)\n",
    "        orthonormal_basis.append(ao) \n",
    "    return transpose(orthonormal_basis) \n",
    "\n",
    "def QR(A):\n",
    "    Z = [A[:,i] for i in range(len(A))]\n",
    "    Q,Q_t = f(Z),transpose(f(Z))\n",
    "    R = dot(Q_t,A)\n",
    "    return Q,R \n",
    "\n",
    "Q,R = QR(S)\n",
    "print('Q:','\\n',Q.round(2),'\\n','\\n','R:','\\n',R.round(1),'\\n','\\n','QR:','\\n',dot(Q,R).round(2),'\\n','\\n','S:','\\n',S,'\\n')\n",
    "for i in range(0,1000):\n",
    "    Q,R = QR(S)\n",
    "    A1 = dot(R,Q)\n",
    "    S = A1\n",
    "    \n",
    "print('The eigenvalues of matrix S are:','\\n',diag(S).reshape(len(S),1))\n",
    "\n",
    "\n",
    "\n",
    "\n",
    "\n",
    "\n"
   ]
  },
  {
   "cell_type": "markdown",
   "metadata": {},
   "source": [
    "# Finding eigenvalues of a matrix by Householder Method"
   ]
  },
  {
   "cell_type": "code",
   "execution_count": 5,
   "metadata": {},
   "outputs": [
    {
     "name": "stdout",
     "output_type": "stream",
     "text": [
      "A=  \n",
      " [[19.  -1.  -2.   2.   0.5]\n",
      " [-1.   5.  -1.  -2.   1. ]\n",
      " [-2.  -1.   2.  -1.   5. ]\n",
      " [ 2.  -2.  -1.   3.   0.1]\n",
      " [50.  -1.  -2.   2.   2. ]] \n",
      "\n",
      "R=  \n",
      " [[53.6 -1.4 -2.7  2.8  1.8]\n",
      " [-0.   5.5 -0.9 -2.8 -0. ]\n",
      " [-0.   0.   2.5 -2.4  3.6]\n",
      " [-0.   0.   0.   0.9  2. ]\n",
      " [-0.  -0.   0.   0.  -3.2]] \n",
      " \n",
      " Q=  \n",
      " [[ 0.35 -0.09 -0.46 -0.38 -0.71]\n",
      " [-0.02  0.91 -0.1   0.33 -0.23]\n",
      " [-0.04 -0.19  0.7   0.31 -0.61]\n",
      " [ 0.04 -0.36 -0.49  0.79 -0.05]\n",
      " [ 0.93  0.06  0.22  0.13  0.24]] \n",
      " \n",
      " QR=  \n",
      " [[19.  -1.  -2.   2.   0.5]\n",
      " [-1.   5.  -1.  -2.   1. ]\n",
      " [-2.  -1.   2.  -1.   5. ]\n",
      " [ 2.  -2.  -1.   3.   0.1]\n",
      " [50.  -1.  -2.   2.   2. ]] \n",
      " \n",
      "\n"
     ]
    }
   ],
   "source": [
    "from numpy import *\n",
    "a = array([[19,-1,-2,2,0.5],[-1,5,-1,-2,1],[-2,-1,2,-1,5],[2,-2,-1,3,0.1],[50,-1,-2,2,2]],dtype=float)\n",
    "print('A= ','\\n',a.round(2),'\\n')\n",
    "n = len(a)\n",
    "I = identity(n)\n",
    "x = a[0:n,0]\n",
    "x,xp = x.reshape(len(x),1),zeros([len(x),1])\n",
    "xp[0] = linalg.norm(x)\n",
    "u,iden = x - xp,identity(len(x))\n",
    "h = iden - (2*dot(u,transpose(u)))/(dot(transpose(u),u))\n",
    "a,H = dot(h,a),array([h])\n",
    "m = H[0]\n",
    "\n",
    "for i in range(1,n-1):\n",
    "    x = a[i:n,i]\n",
    "    x = x.reshape(len(x),1)\n",
    "    xp = zeros([len(x),1])\n",
    "    xp[0] = linalg.norm(x)\n",
    "    u = x - xp\n",
    "    iden = identity(len(x))\n",
    "    h = iden - (2*dot(u,transpose(u)))/(dot(transpose(u),u))\n",
    "    I = identity(n)\n",
    "    I[i:n,i:n] = h\n",
    "    h = I\n",
    "    H = concatenate((H,[h]))\n",
    "    a = dot(h,a)\n",
    "\n",
    "for i in range(1,n-1):\n",
    "    m = dot(H[i],m)       # H3.H2.H1.H0 = (Q)^-1\n",
    "Q,R = linalg.inv(m),a\n",
    "\n",
    "print('R= ','\\n',R.round(1),'\\n','\\n','Q= ','\\n',Q.round(2),'\\n','\\n','QR= ','\\n',dot(Q,R),'\\n','\\n')"
   ]
  },
  {
   "cell_type": "markdown",
   "metadata": {},
   "source": [
    "## Does QR method works for any N x N matrix ?"
   ]
  },
  {
   "cell_type": "markdown",
   "metadata": {},
   "source": [
    "The major limitation of the QR algorithm is that already the first stage generates usually complete fill-in in general sparse matrices. It can therefore not be applied to large sparse matrices, simply because of excessive memory requirements.\n",
    "This method is not recommended in the case where only eigenvalues are desired of a symmetric tridiagonal matrix. Also, I think this method can't be used for non-diagonalizable matrices\n"
   ]
  },
  {
   "cell_type": "markdown",
   "metadata": {},
   "source": [
    "## Limitations:"
   ]
  },
  {
   "cell_type": "markdown",
   "metadata": {},
   "source": [
    "Usually, many steps are required to have convergence; certainly much more than n. In fact, the basic QR-method can be arbitrarily slow if the eigenvalues are close to each other. It is often slow in practice. Householder reflection algorithm is bandwidth heavy and not parallelizable, as every reflection that produces a new zero element changes the entirety of both Q and R matrices. The reduction of a sparse matrix to tridiagonal or Hessenberg form produces ﬁll-in, thus destroying the sparsity structure which one almost always tries to preserve."
   ]
  },
  {
   "cell_type": "code",
   "execution_count": null,
   "metadata": {},
   "outputs": [],
   "source": []
  }
 ],
 "metadata": {
  "kernelspec": {
   "display_name": "Python 3",
   "language": "python",
   "name": "python3"
  },
  "language_info": {
   "codemirror_mode": {
    "name": "ipython",
    "version": 3
   },
   "file_extension": ".py",
   "mimetype": "text/x-python",
   "name": "python",
   "nbconvert_exporter": "python",
   "pygments_lexer": "ipython3",
   "version": "3.8.3"
  }
 },
 "nbformat": 4,
 "nbformat_minor": 2
}

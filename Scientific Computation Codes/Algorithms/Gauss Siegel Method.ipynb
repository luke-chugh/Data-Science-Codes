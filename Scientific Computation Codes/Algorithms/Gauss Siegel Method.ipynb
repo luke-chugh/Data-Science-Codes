{
 "cells": [
  {
   "cell_type": "markdown",
   "metadata": {},
   "source": [
    "# Solving a system of equations using gauss siegel method"
   ]
  },
  {
   "cell_type": "code",
   "execution_count": 1,
   "metadata": {},
   "outputs": [
    {
     "name": "stdout",
     "output_type": "stream",
     "text": [
      "[1.05792683 1.36716524 1.96168612]\n"
     ]
    }
   ],
   "source": [
    "from pylab import *\n",
    "from numpy import *\n",
    "\n",
    "x = 0.0\n",
    "y = 0.0\n",
    "z = 0.0\n",
    "t = 0.0\n",
    "n = 3\n",
    "flag_1 = [0,0,0]\n",
    "flag_2 = [1,1,1]\n",
    "\n",
    "a = array([ [83.,11.,-4.] , [7.,52.,13.] , [3.,8.,29.] ])\n",
    "b = array([ 95., 104. ,71. ])\n",
    "X = array([ x , y , z ])\n",
    "\n",
    "for k in range(0,101):\n",
    "    for i in range(0,n):\n",
    "        X[i] = b[i]/a[i][i]\n",
    "        p = X[i]\n",
    "        for j in range(0,n):\n",
    "            if( i != j ):\n",
    "                X[i] -= a[i][j]*X[j]/a[i][i]\n",
    "        if( abs(X[i]-p) < 0.01 ):\n",
    "            flag_1[i] = 1\n",
    "    if(flag_1 == flag_2):\n",
    "        break\n",
    "\n",
    "print(X)            "
   ]
  },
  {
   "cell_type": "code",
   "execution_count": null,
   "metadata": {},
   "outputs": [],
   "source": []
  }
 ],
 "metadata": {
  "kernelspec": {
   "display_name": "Python 3",
   "language": "python",
   "name": "python3"
  },
  "language_info": {
   "codemirror_mode": {
    "name": "ipython",
    "version": 3
   },
   "file_extension": ".py",
   "mimetype": "text/x-python",
   "name": "python",
   "nbconvert_exporter": "python",
   "pygments_lexer": "ipython3",
   "version": "3.8.3"
  }
 },
 "nbformat": 4,
 "nbformat_minor": 2
}

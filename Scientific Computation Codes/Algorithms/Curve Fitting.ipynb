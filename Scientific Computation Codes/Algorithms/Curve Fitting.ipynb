{
 "cells": [
  {
   "cell_type": "markdown",
   "metadata": {},
   "source": [
    "# Curve Fitting"
   ]
  },
  {
   "cell_type": "code",
   "execution_count": 1,
   "metadata": {},
   "outputs": [
    {
     "name": "stdout",
     "output_type": "stream",
     "text": [
      "[[1.         1.76433493]\n",
      " [1.76433493 8.23919354]]\n",
      "[1.17557587 5.49062021]\n",
      "[[1.         1.76433493]\n",
      " [0.         5.1263158 ]]\n",
      "[1.17557587 3.41651064]\n",
      "[-2.91805659e-04  6.66465113e-01]\n"
     ]
    },
    {
     "data": {
      "text/plain": [
       "<matplotlib.collections.PathCollection at 0x2bb152cf130>"
      ]
     },
     "execution_count": 1,
     "metadata": {},
     "output_type": "execute_result"
    },
    {
     "data": {
      "image/png": "[encoded data removed]",
      "text/plain": [
       "<Figure size 432x288 with 1 Axes>"
      ]
     },
     "metadata": {
      "needs_background": "light"
     },
     "output_type": "display_data"
    }
   ],
   "source": [
    "import numpy as np\n",
    "import math\n",
    "from pylab import *\n",
    "n=2\n",
    "x_mean=xsq_mean=y_mean=xy_mean=0.0\n",
    "y_list=np.array([0.387, 0.723, 1.000, 1.524, 5.203, 9.516, 19.166, 30.012])\n",
    "x_list=np.array([0.241, 0.615, 1.000, 1.881, 11.862, 29.458, 84.013, 164.793])\n",
    "l = np.array([0.241, 0.615, 1.000, 1.881, 11.862, 29.458, 84.013, 164.793])\n",
    "z = np.array([0.387, 0.723, 1.000, 1.524, 5.203, 9.516, 19.166, 30.012])\n",
    "y_newlist = []\n",
    "p_list= []\n",
    "for i in range(0,8):\n",
    "    x_list[i]=math.log(x_list[i])\n",
    "    y_list[i]=math.log(y_list[i])\n",
    "\n",
    "for i in range(0,8):\n",
    "    x_mean+=x_list[i]\n",
    "    xsq_mean+=x_list[i]**2\n",
    "    y_mean+=y_list[i]\n",
    "    xy_mean+=x_list[i]*y_list[i]\n",
    "x_mean=x_mean/8.0\n",
    "xsq_mean=xsq_mean/8.0\n",
    "y_mean=y_mean/8.0\n",
    "xy_mean=xy_mean/8.0\n",
    "a=np.array([ [1., x_mean] , [x_mean, xsq_mean] ])\n",
    "b=np.array([ y_mean, xy_mean ])\n",
    "print(a)\n",
    "print(b)\n",
    "for k in range(0,n-1):\n",
    "    for i in range(k+1,n):\n",
    "        b[i] -= (( (a[i][k])/(a[k][k]) ) * b[k])\n",
    "        c=(a[i][k]/a[k][k])\n",
    "        for j in range(k,n):\n",
    "            a[i][j]-= c*a[k][j]\n",
    "print(a)\n",
    "print(b)\n",
    "X= np.array([0.0,0.0])\n",
    "for i in range((n-1),-1,-1):\n",
    "    X[i] = (b[i])/(a[i][i])\n",
    "    for j in range(0,n):\n",
    "        if(i!=j):\n",
    "            X[i]-= (a[i][j]*X[j])/(a[i][i])\n",
    "print(X)\n",
    "\n",
    "def y(x):\n",
    "    return X[1]*x + X[0]\n",
    "x_newlist = linspace(-2,6,1000)\n",
    "for m in x_newlist:\n",
    "    y_newlist.append(y(m))\n",
    "#plot(x_newlist,y_newlist,'g--')\n",
    "#scatter(x_list,y_list,color = 'k')\n",
    "\n",
    "\"To plot a = CT^n\"\n",
    "def a(T):\n",
    "    return (exp(X[0]))*(pow(T,X[1]))\n",
    "for i in l:\n",
    "    p_list.append(a(i))\n",
    "plot(l,p_list,'g--')\n",
    "scatter(l,z,color='k')\n",
    "    \n",
    "\n",
    "    "
   ]
  },
  {
   "cell_type": "code",
   "execution_count": null,
   "metadata": {},
   "outputs": [],
   "source": []
  }
 ],
 "metadata": {
  "kernelspec": {
   "display_name": "Python 3",
   "language": "python",
   "name": "python3"
  },
  "language_info": {
   "codemirror_mode": {
    "name": "ipython",
    "version": 3
   },
   "file_extension": ".py",
   "mimetype": "text/x-python",
   "name": "python",
   "nbconvert_exporter": "python",
   "pygments_lexer": "ipython3",
   "version": "3.8.3"
  }
 },
 "nbformat": 4,
 "nbformat_minor": 4
}

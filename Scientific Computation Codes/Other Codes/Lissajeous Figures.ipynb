{
 "cells": [
  {
   "cell_type": "markdown",
   "metadata": {},
   "source": [
    "# Lissajeous Figures  \n",
    "> **of two superimposed waves with same amplitude and frequency but different phase**"
   ]
  },
  {
   "cell_type": "code",
   "execution_count": 1,
   "metadata": {},
   "outputs": [
    {
     "data": {
      "application/vnd.jupyter.widget-view+json": {
       "model_id": "9c83092a31b04467a8ebed73afb15d91",
       "version_major": 2,
       "version_minor": 0
      },
      "text/plain": [
       "VBox(children=(Figure(animation_duration=1500, axes=[Axis(scale=LinearScale()), Axis(orientation='vertical', s…"
      ]
     },
     "metadata": {},
     "output_type": "display_data"
    },
    {
     "data": {
      "application/vnd.jupyter.widget-view+json": {
       "model_id": "cecef42dc1c3404c9af63cfea020729d",
       "version_major": 2,
       "version_minor": 0
      },
      "text/plain": [
       "interactive(children=(IntSlider(value=1, description='w1', layout=Layout(width='700px'), max=12, min=1), IntSl…"
      ]
     },
     "metadata": {},
     "output_type": "display_data"
    }
   ],
   "source": [
    "import numpy as np\n",
    "import bqplot .pyplot as plt\n",
    "from ipywidgets import*\n",
    "t = np.linspace(0,2*np.pi,200) ## we deal with one fi\n",
    "plt.figure(figsize=(20,10))\n",
    "fig = plt.figure(animation_duration = 1500,layout ={'width':'800px','height':'600px'} )\n",
    "plt.clear()\n",
    "plot =plt.plot(t,t)\n",
    "plt.show()\n",
    "def F_main(w1,w2,delta):\n",
    "    x = np.cos(w1*t)\n",
    "    y = np.cos(w2*t+delta)\n",
    "    \n",
    "    plot.x = x\n",
    "    plot.y = y\n",
    "interactive(F_main,w1 = IntSlider(value = 1,max = 12,min = 1,layout = {'width':'700px'}),\n",
    "            w2 = IntSlider(value = 1,max = 12,min = 1,layout = {'width':'700px'}),\n",
    "            delta =ToggleButtons( options=[('0', 0), ('pi/4', np.pi/4.),\n",
    "                                                         ('pi/2', np.pi/2.),('3*pi/4', (3*np.pi)/4.),('pi', np.pi),\n",
    "                                                        ('5*pi/4', (5*np.pi)/4.),('3pi/2', (3*np.pi)/2.),('7*pi/4',\n",
    "                                                        (7*np.pi)/4.),('2$\\pi$',2*np.pi)],\n",
    "                                                         value=np.pi/4,description='Phase',layout = {'width':'700px'}))\n",
    "   "
   ]
  },
  {
   "cell_type": "code",
   "execution_count": null,
   "metadata": {},
   "outputs": [],
   "source": []
  }
 ],
 "metadata": {
  "kernelspec": {
   "display_name": "Python 3",
   "language": "python",
   "name": "python3"
  },
  "language_info": {
   "codemirror_mode": {
    "name": "ipython",
    "version": 3
   },
   "file_extension": ".py",
   "mimetype": "text/x-python",
   "name": "python",
   "nbconvert_exporter": "python",
   "pygments_lexer": "ipython3",
   "version": "3.8.3"
  }
 },
 "nbformat": 4,
 "nbformat_minor": 4
}
